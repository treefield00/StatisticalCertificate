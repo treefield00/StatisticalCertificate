{
  "nbformat": 4,
  "nbformat_minor": 0,
  "metadata": {
    "colab": {
      "provenance": [],
      "collapsed_sections": [
        "OKyV9iyRDNgS",
        "8vx45J-FDedN",
        "3P21uw_zb2jH",
        "ML8BZTYHcBcj",
        "7d8iLih1cPUC",
        "rFXdgcbOspAU",
        "t3gYAxBfs3L6",
        "O8sv7aUoIzUG",
        "6beRAjSsLZ1_",
        "tWJXOyldFi44",
        "Fubiklc_lV64",
        "znOGvlJylUWQ",
        "chTz8_URl2Yt",
        "9GW259Q6ld6B",
        "pjejn3HQtb1a",
        "usoPw3U-tf9J",
        "4flW5lsetlN0",
        "ZkbGzrhy6UKk",
        "Sy2nEAci91Ix",
        "ZgQdZVuIAL0y",
        "WxXX2jtSt4K4",
        "BflcQnxCLx49",
        "Szz-3hpEt7_a",
        "oYGZ9_7phtnU",
        "ESXARhYuuBdT",
        "zFN3r9HMuOer",
        "iSZ_LDZaYZ80",
        "IoYi9Jq8lBTV",
        "A_3Yldm50gD-",
        "mHrM3uxP0kp7",
        "ib9VA_d20pOw",
        "jlaPY7MLunhn",
        "9LRf4olKxLHF",
        "QHyeyNbhxVwE",
        "4Zuy6C5gxgYR",
        "XY411lCcxkpx"
      ],
      "toc_visible": true,
      "authorship_tag": "ABX9TyM/CGNzbk5+78DLXrYRTzFO",
      "include_colab_link": true
    },
    "kernelspec": {
      "name": "python3",
      "display_name": "Python 3"
    },
    "language_info": {
      "name": "python"
    }
  },
  "cells": [
    {
      "cell_type": "markdown",
      "metadata": {
        "id": "view-in-github",
        "colab_type": "text"
      },
      "source": [
        "<a href=\"https://colab.research.google.com/github/treefield00/StatisticalCertificate/blob/main/%E7%B5%B1%E8%A8%88%E6%A4%9C%E5%AE%9A%EF%BC%93%E7%B4%9A%E5%85%AC%E5%BC%8F.ipynb\" target=\"_parent\"><img src=\"https://colab.research.google.com/assets/colab-badge.svg\" alt=\"Open In Colab\"/></a>"
      ]
    },
    {
      "cell_type": "code",
      "metadata": {
        "id": "-ap2pPZXp5R-"
      },
      "source": [],
      "execution_count": null,
      "outputs": []
    },
    {
      "cell_type": "markdown",
      "metadata": {
        "id": "hS5eusrcqBF4"
      },
      "source": [
        "#第１章　データの種類とグラフ表現表現\n"
      ]
    },
    {
      "cell_type": "markdown",
      "metadata": {
        "id": "QziK-Dj2q7zC"
      },
      "source": [
        "##1.1 データの種類"
      ]
    },
    {
      "cell_type": "markdown",
      "metadata": {
        "id": "mfV2Q0epx9tR"
      },
      "source": [
        "質的変数：名義尺度または順序尺度  \n",
        "　　　　　**カテゴリ**  \n",
        "　　　　　$\\color{red}{名義尺度}$：性別、支持政党政党  \n",
        "　　　　　$\\color{red}{順序尺度}$：住居の建築時期の諸段階、成績の５段階評価、病状の進行段階  \n",
        "量的変数：間隔尺度または比例尺度（比尺度）  \n",
        "　　　　　**数値**  \n",
        "　　　　　$\\color{red}{間隔尺度}$：摂氏、西暦、**摂氏**  \n",
        "　　　　　$\\color{red}{比例尺度}$：身長、体重、距離、**絶対温度**  \n",
        "  \n",
        "・離散変数（整数値）/連続変数（実数値）  \n",
        "・多次元データ・多変量データ  \n",
        "・時系列データ  \n",
        "　　クロスセクションデータ  \n",
        "　　パネルデータ 　\n"
      ]
    },
    {
      "cell_type": "markdown",
      "metadata": {
        "id": "qndBadlwrBnX"
      },
      "source": [
        "##1.2 質的変数の要約"
      ]
    },
    {
      "cell_type": "markdown",
      "metadata": {
        "id": "biitaFQ2-1em"
      },
      "source": [
        "###質的変数の集計"
      ]
    },
    {
      "cell_type": "markdown",
      "metadata": {
        "id": "jhCq6mDO_b89"
      },
      "source": [
        "###クロス集計"
      ]
    },
    {
      "cell_type": "markdown",
      "metadata": {
        "id": "JgnIqjbjxTaQ"
      },
      "source": [
        "\n",
        "\n",
        "> 全体を100％とする場合  \n",
        "行和を100％とする場合  \n",
        "列和を100％とする場合\n",
        "\n"
      ]
    },
    {
      "cell_type": "markdown",
      "metadata": {
        "id": "whZv_8PYrb6l"
      },
      "source": [
        "##1.3 グラフによるデータの要約"
      ]
    },
    {
      "cell_type": "markdown",
      "metadata": {
        "id": "st6rP8KVAYMn"
      },
      "source": [
        "###基本的なグラフ  \n",
        "棒グラフ  \n",
        "折れ線グラフ  \n",
        "円グラフ  \n",
        "帯グラフ"
      ]
    },
    {
      "cell_type": "markdown",
      "metadata": {
        "id": "hMWsfBk_Az-Y"
      },
      "source": [
        "###幹葉図 みきはず  \n",
        "幹葉表示 かんようひょうじ 　\n",
        "\n",
        "他家受粉の数値に$\\color{blue}{\"\\_\"をつける}$などの工夫をすることにより、他家受粉の方が大きな値になっていることなどもひと目で読み取れる  \n",
        "\n",
        "幹葉図を左に90度回転したものは、$\\color{blue}{ヒストグラム}$に対応するとも考えられる\n"
      ]
    },
    {
      "cell_type": "markdown",
      "metadata": {
        "id": "8U5KPa3EBQPW"
      },
      "source": [
        "###レーダーチャート"
      ]
    },
    {
      "cell_type": "markdown",
      "metadata": {
        "id": "M-gVdEmQrnKx"
      },
      "source": [
        "##1.4グラフ表現の工夫と注意点"
      ]
    },
    {
      "cell_type": "markdown",
      "metadata": {
        "id": "WbQmIF72BdyK"
      },
      "source": [
        "###複数のグラフの組み合わせ"
      ]
    },
    {
      "cell_type": "markdown",
      "source": [
        "雨温図  \n",
        "　　気温ー折れ線グ  \n",
        "　　降水量ー棒グラフ\n"
      ],
      "metadata": {
        "id": "8hRbU_KG2g8I"
      }
    },
    {
      "cell_type": "markdown",
      "metadata": {
        "id": "ILWe_CqPDDYz"
      },
      "source": [
        "###積み上げ棒グラフ"
      ]
    },
    {
      "cell_type": "markdown",
      "source": [
        "各年齢層での女性の人口が変化していることを考慮する場合は、  \n",
        "$\\underline{各年齢での出生数を人口で割った値を折れ線グラフで表す}$ことも効果的である"
      ],
      "metadata": {
        "id": "kjFcluzc3LOR"
      }
    },
    {
      "cell_type": "markdown",
      "metadata": {
        "id": "OKyV9iyRDNgS"
      },
      "source": [
        "###時点の異なる複数の帯グラフ"
      ]
    },
    {
      "cell_type": "markdown",
      "source": [
        "構成割合の時間的変化を把握する場合などに有効"
      ],
      "metadata": {
        "id": "TEZHJQqX3_Pk"
      }
    },
    {
      "cell_type": "markdown",
      "metadata": {
        "id": "8vx45J-FDedN"
      },
      "source": [
        "###誤解を招きやすいグラフ表現"
      ]
    },
    {
      "cell_type": "markdown",
      "metadata": {
        "id": "usZu4gvPr42b"
      },
      "source": [
        "##1.5 時系列データの要約"
      ]
    },
    {
      "cell_type": "markdown",
      "metadata": {
        "id": "3P21uw_zb2jH"
      },
      "source": [
        "###時系列データのグラフ表現"
      ]
    },
    {
      "cell_type": "markdown",
      "source": [
        "折れ線グラフ  \n",
        "\n",
        "時系列データの特徴を見る場合には、時間的変化の中から$\\color{blue}{周期的な変動}$や$\\color{blue}{偶然による不規則な変動}$を取り除くことによって、全体的な傾向を調べる  \n",
        "\n",
        "時系列データの変化の様子を見る場合には  \n",
        "前時点を基準として差や比で表したり、  \n",
        "変化率で表したりする\n",
        "$変化率=\\frac{現時点の値-前時点の値}{前時点の値}$"
      ],
      "metadata": {
        "id": "2DBeqHLk4wIO"
      }
    },
    {
      "cell_type": "markdown",
      "metadata": {
        "id": "ML8BZTYHcBcj"
      },
      "source": [
        "###時系列データの指数（指標）による表現"
      ]
    },
    {
      "cell_type": "markdown",
      "source": [
        "指数、指標  \n",
        "ある時点を$\\color{blue}{基準時点}$として、各時点の生産量を基準時点の生産量で割った値やそれを１００倍した値を用いる  \n",
        "\n",
        "漁業生産量の推移推移　など"
      ],
      "metadata": {
        "id": "cab0ibO76UXU"
      }
    },
    {
      "cell_type": "markdown",
      "metadata": {
        "id": "Ed4_UsQbsA9J"
      },
      "source": [
        "##1.6 時系列グラフ作成上の注意点"
      ]
    },
    {
      "cell_type": "markdown",
      "source": [
        "母子手帳の時間間隔に注意"
      ],
      "metadata": {
        "id": "8-U1jpyN-SX3"
      }
    },
    {
      "cell_type": "markdown",
      "metadata": {
        "id": "7d8iLih1cPUC"
      },
      "source": [
        "###時系列データに対する対数の利用"
      ]
    },
    {
      "cell_type": "markdown",
      "source": [
        "対数変換  \n",
        "成長率　比率  \n",
        "時間 $t$  \n",
        "時系列データ $y_t$  \n",
        "常用対数 $\\log{y_t}$  \n",
        "データによっては近似的に、$\\color{blue}{\\log{y_t}=at+b (a,bは定数)}$  \n",
        "が成立　これにより  \n",
        "$\\color{red}{\\log{\\frac{y_{t+1}}{y_t}}=\\log{y_{t+1}-\\log{y_t}}=a}$  \n",
        "となり、成長率が一定  \n",
        "また、$\\log{y_t}$の表す直線の傾きが、$\\color{red}{成長率}$"
      ],
      "metadata": {
        "id": "DNqrD3RobCbS"
      }
    },
    {
      "cell_type": "markdown",
      "metadata": {
        "id": "5YeaeL1QsJt1"
      },
      "source": [
        "#第２章 量的変数の要約方法"
      ]
    },
    {
      "cell_type": "markdown",
      "metadata": {
        "id": "pmZTjtbHsbcz"
      },
      "source": [
        "##2.1 度数分布表の作成"
      ]
    },
    {
      "cell_type": "markdown",
      "metadata": {
        "id": "v-WzZz83i0t5"
      },
      "source": [
        "度数（頻度）  \n",
        "階級  \n",
        "階級の代表値・階級値  \n",
        "　階級の上限と下限の平均値（階級の真ん中の値）  \n",
        "　（総務省の場合）各階級に含まれる個々の値の平均値  \n",
        "$相対度数=\\frac{階級の度数}{度数の合計}$　（割合）  \n",
        "累積相対度数"
      ]
    },
    {
      "cell_type": "markdown",
      "metadata": {
        "id": "rFXdgcbOspAU"
      },
      "source": [
        "##2.2 ヒストグラムと度数分布多角形"
      ]
    },
    {
      "cell_type": "markdown",
      "source": [
        "$\\color{red}{面積が度数と比例する}ように長方形を描く$"
      ],
      "metadata": {
        "id": "R-TaXnYFhaZk"
      }
    },
    {
      "cell_type": "markdown",
      "metadata": {
        "id": "t3gYAxBfs3L6"
      },
      "source": [
        "##2.3 分布の特徴の把握"
      ]
    },
    {
      "cell_type": "markdown",
      "metadata": {
        "id": "2ld3dSmIs-A0"
      },
      "source": [
        "##2.4 分位数と５数要約"
      ]
    },
    {
      "cell_type": "markdown",
      "metadata": {
        "id": "1UhjWh6SBB_z"
      },
      "source": [
        "###分位数"
      ]
    },
    {
      "cell_type": "markdown",
      "metadata": {
        "id": "mZU5zMPs_dA0"
      },
      "source": [
        "4等分　四分位数  \n",
        "第2四分位数　$Q_2$ 中央値Mと同じ  \n",
        "100等分　第1百分位点ー第99百分位点 1パーセント点ー99パーセント点"
      ]
    },
    {
      "cell_type": "markdown",
      "metadata": {
        "id": "ChHyBHjIBFoe"
      },
      "source": [
        "###累積度数分布"
      ]
    },
    {
      "cell_type": "markdown",
      "source": [
        "累積度数分布のグラフの高さ：$\\color{red}{F(x)}$  \n",
        "$\\underline{F(x)は、「x以下となる観測値の度数（または相対度数）の合計}$  \n",
        "$n$が非常に大きく、階級の幅が小さい場合  \n",
        "なめらかなヒストグラム：$f(x)$  \n",
        "  \n",
        "ヒストグラム（相対度数分布）で  \n",
        "観測値$\\color{red}{x}$が、$\\color{red}{x\\leqq Q}$  \n",
        "となる割合(面積)  \n",
        "$\\color{red}{F(Q)=p}$  \n",
        "  \n",
        "累積相対度数分布で  \n",
        "縦軸を$\\color{red}{p}$とすると  \n",
        "$\\color{red}{F(x)=p}$となるような横軸の値は  \n",
        "$\\color{red}{x=Q}$となる  \n",
        "これが$\\color{blue}{一般的な分位数（分位点）の定義}$  \n",
        "\n",
        "例えば、  \n",
        "$p=0.2$なら、対応する  \n",
        "$Q$は20パーセント点  \n",
        "$p=0.5$なら対応する  \n",
        "$M$は中央値"
      ],
      "metadata": {
        "id": "ILtvG_0wvlq7"
      }
    },
    {
      "cell_type": "markdown",
      "metadata": {
        "id": "byUiPBccDcFB"
      },
      "source": [
        "５数要約  \n",
        "最小値、第１四分位数、第2四分位数、第３四分位数、最大値"
      ]
    },
    {
      "cell_type": "markdown",
      "metadata": {
        "id": "34KFwMDStGyh"
      },
      "source": [
        "##2.5 データの散らばり"
      ]
    },
    {
      "cell_type": "markdown",
      "metadata": {
        "id": "D0lbJAaqGaoV"
      },
      "source": [
        "範囲　レンジ  \n",
        "　$\\color{red}{R}$ (最大値と最小値の差)  \n",
        "四分位範囲　$\\color{red}{IQR}（Inter Quartile Range）$  \n",
        "　  $\\color{red}{Q_3-Q_1}$  \n",
        "四分位偏差  \n",
        "　$\\color{red}{\\frac{IQR}{2}}$  "
      ]
    },
    {
      "cell_type": "markdown",
      "metadata": {
        "id": "lDxaWZp3tNCP"
      },
      "source": [
        "##2.6 箱ひげ図"
      ]
    },
    {
      "cell_type": "markdown",
      "metadata": {
        "id": "x2brH0XOIPvb"
      },
      "source": [
        "基本箱ヒゲ図  \n",
        "$R$（範囲）　ヒゲの両端の長さ  \n",
        "$IQR$（四分位範囲）　箱の長さ　"
      ]
    },
    {
      "cell_type": "markdown",
      "metadata": {
        "id": "O8sv7aUoIzUG"
      },
      "source": [
        "###平行（並列）箱ひげ図"
      ]
    },
    {
      "cell_type": "markdown",
      "metadata": {
        "id": "nPr73L0GI-TO"
      },
      "source": [
        "###箱ひげ図についての注意"
      ]
    },
    {
      "cell_type": "markdown",
      "metadata": {
        "id": "pA3CnQfxKVoD"
      },
      "source": [
        "$\\color{blue}{山が一つだけ}$\n",
        "\n",
        "箱図（boxplot）\n",
        "箱ひげ図（box-and-whisker plot）  \n",
        "基本箱ひげ図（skeletal boxplot）  \n",
        "  \n",
        "一般的な箱ヒゲ図では、ハズレ値を表示する"
      ]
    },
    {
      "cell_type": "markdown",
      "metadata": {
        "id": "6TIMEmI-tT3z"
      },
      "source": [
        "#第３章 １変数データの分析"
      ]
    },
    {
      "cell_type": "markdown",
      "metadata": {
        "id": "e5Hs2eYGtcNs"
      },
      "source": [
        "##3.1 位置に関する代表値"
      ]
    },
    {
      "cell_type": "markdown",
      "metadata": {
        "id": "6beRAjSsLZ1_"
      },
      "source": [
        "###平均値  \n",
        "$\\bar{x}=\\frac{観測値の合計}{観測値の個数}=\\frac{x_1+x_2+\\cdots+x_n}{n}=\\frac{1}{n}\\sum_{i=1}^{n}x_i$"
      ]
    },
    {
      "cell_type": "markdown",
      "metadata": {
        "id": "qQu-r4-cQpci"
      },
      "source": [
        "###中央値（中位数、メディアン）"
      ]
    },
    {
      "cell_type": "markdown",
      "metadata": {
        "id": "GaowgYeORTLB"
      },
      "source": [
        "ほとんど外れ値に影響されない  \n",
        "  \n",
        "計算  \n",
        "$nが\\color{blue}{奇数}の場合$  \n",
        "$\\color{red}{x_{(\\frac{(n+1)}{2})}}$  \n",
        "$nが\\color{blue}{偶数}の場合$  \n",
        "$\\color{red}{\\frac{(x_{(n/2)}+x_{(n/2+1)})}{2}}$"
      ]
    },
    {
      "cell_type": "markdown",
      "metadata": {
        "id": "tWJXOyldFi44"
      },
      "source": [
        "###最頻値（モード）"
      ]
    },
    {
      "cell_type": "markdown",
      "source": [
        "階級幅を極端に小さくした場合には、ほとんどの階級では度数は０または１となってしまう"
      ],
      "metadata": {
        "id": "6Wh-NtPwIJoo"
      }
    },
    {
      "cell_type": "markdown",
      "metadata": {
        "id": "pZMnCeXwGb5x"
      },
      "source": [
        "###３つの位置の代表値の大小関係"
      ]
    },
    {
      "cell_type": "markdown",
      "metadata": {
        "id": "nAFLP-wuGk3g"
      },
      "source": [
        "右すそが長い分布  \n",
        "$\\color{red}{最頻値＜中央値＜平均値}$  \n",
        "  \n",
        "  $\\color{blue}{対数所得}$  \n",
        "  比較的左右対称な分布となることが多い  \n",
        "\n",
        "100万円と110万円  \n",
        "$110-100=10$  \n",
        "$1100-1000=100$  \n",
        "対数  \n",
        "$\\log{110}-\\log{100}=\\log{1.1}=0.041$  \n",
        "$\\log{1100}-\\log{1000}=\\log{1.1}=0.041$  \n",
        "\n"
      ]
    },
    {
      "cell_type": "markdown",
      "metadata": {
        "id": "09AEdBweLnCj"
      },
      "source": [
        "###度数分布表からの平均値の計算"
      ]
    },
    {
      "cell_type": "markdown",
      "metadata": {
        "id": "fujBqIsgLxt3"
      },
      "source": [
        "階級の数：k  \n",
        "各階級の代表値：$m_1,m_2,\\cdots,m_k$  \n",
        "度数：：$f_1,f_2,\\cdots,f_k$  \n",
        "データの大きさ  \n",
        "　$n=f_1+f_2+\\cdots+f_k=\\sum_{j=1}^{k}f_j$  \n",
        "度数分布表から求めた平均値  \n",
        "　$\\color{red}{\\frac{m_1f_1+m_2f_2+\\cdots+m_kf_k}{n}=\\frac{\\sum_{j=1}^{k}m_jf_j}{\\sum_{j=1}^{k}f_j}}$  \n",
        "$\\underline{正確な平均値}は、$ $度数分布表から計算した平均値\\color{blue}{\\pm\\frac{(階級幅)}{2}}$"
      ]
    },
    {
      "cell_type": "markdown",
      "metadata": {
        "id": "Kxa5fnMftjNL"
      },
      "source": [
        "##3.2 観測値の散らばりの尺度"
      ]
    },
    {
      "cell_type": "markdown",
      "metadata": {
        "id": "2tK_uNDvRIIE"
      },
      "source": [
        "範囲  \n",
        "四分位範囲$IQR$  \n",
        "偏差  \n",
        "　$偏差=観測値-平均値=x_i-\\bar{x}$  \n",
        "$\\color{blue}{偏差の合計は常に０になる}$  \n",
        "　$\\sum_{i=1}^{n}(x_i-\\bar{x})=\\sum_{i=1}^{n}(x_i)-n\\bar{x}=n\\bar{x}-n\\bar{x}$  \n",
        "$\\color{blue}{したがって偏差の平均値も０}$  \n",
        "  \n",
        "偏差の絶対値の平均値  \n",
        "　$\\color{red}{\\frac{1}{n}\\sum_{i=1}^{n}|x_i-\\bar{x}|}$　　→$\\color{blue}{平均偏差}$  \n",
        "  \n",
        "偏差の平方値の平均値  \n",
        "　$\\color{red}{\\frac{1}{n}\\sum_{i=1}^{n}(x_i-\\bar{x})^2}$　　→$\\color{blue}{分散}$  \n",
        "  \n",
        "$\\color{blue}{分散}$：$\\color{red}{s^2}$  \n",
        "$\\color{blue}{標準偏差}$：$\\color{red}{s}$（分散の正の平方根）"
      ]
    },
    {
      "cell_type": "markdown",
      "metadata": {
        "id": "W1nwr2OZtrky"
      },
      "source": [
        "##3.3 $\\color{blue}{変数の変換と平均値、分散、標準偏差}$"
      ]
    },
    {
      "cell_type": "markdown",
      "metadata": {
        "id": "7siScTzfRcKV"
      },
      "source": [
        "P63-64  \n",
        "変数xのn個の観測値$x_1,\\cdots,x_n$  \n",
        "$\\color{blue}{平均}$：$\\color{red}{\\bar{x}}=\\frac{1}{n}(x_1+x_2+\\cdots+x_n)=\\frac{1}{n}\\sum_{i=1}^{n}x_i$  \n",
        "$\\color{blue}{分散}$：$\\color{red}{s_x^2}=\\frac{1}{n}[(x_1-\\bar{x})^2+\\cdots+(x_n-\\bar{x})^2]=\\frac{1}{n}\\sum_{i=1}^{n}(x_i-\\bar{x})^2$  \n",
        "  \n",
        "ここでa,bを定数として、観測値を  \n",
        "$\\color{red}{y_1=a+bx_1,\\cdots,y_n=a+bx_n}$とおく  \n",
        "$\\color{blue}{平均}$：$\\color{red}{\\bar{y}}=\\frac{1}{n}\\sum_{i=1}^{n}(a+bx_i)=\\frac{1}{n}(na+b\\sum_{i=1}^{n}x_i)\\color{red}{=a+b\\bar{x}}$  \n",
        "$$\\color{red}{\\underline{\\bar{y}=a+b\\bar{x}}}$$  \n",
        "\n",
        "$\\color{blue}{分散}$：$\\color{red}{s_y^2}=\\frac{1}{n}\\sum_{i=1}^{n}(y_i-\\bar{y})^2=\\frac{1}{n}\\sum_{i=1}^{n}(a+bx_i-a-b\\bar{x})^2$  \n",
        "　　　　　$=\\frac{1}{n}\\sum_{i=1}^{n}(bx_i-b\\bar{x})^2=b^2\\frac{1}{n}\\sum_{i=1}^{n}(x_i-\\bar{x})\\color{red}{=b^2s_x^2}$  \n",
        "$$\\color{red}{\\underline{s_y^2=b^2s_x^2}}$$  \n",
        "$\\color{blue}{標準偏差}$：$$\\color{red}{\\underline{s_y=|b|s_x}}$$  \n",
        "  \n",
        "$\\color{blue}{仮平均}$  \n",
        "$\\color{red}{n=4,仮平均100}$  \n",
        "$x_1=95,x_2=100,x_3=105,x_4=110$  \n",
        "$\\color{red}{\\underline{y=\\frac{(x-100)}{5}}}$とすると（・・・$a=-20,b=\\frac{1}{5}$）  \n",
        "$y_1=-1,y_\"=0,y_3=1,y_4=2$  \n",
        "yの平均は、$\\bar{y}=\\frac{(-1+0+1+2)}{4}=\\frac{2}{4}=0.5$  \n",
        "$\\color{red}{\\bar{x}}$は$\\color{red}{\\underline{\\bar{y}=\\frac{(\\bar{x}-100)}{5}}}$を解いて  \n",
        "$\\bar{x}=100+5\\bar{y}=100+5\\times0.5=102.5 $"
      ]
    },
    {
      "cell_type": "markdown",
      "metadata": {
        "id": "J8RMrowJhjxO"
      },
      "source": [
        "$\\color{blue}{偏差平方和}$は　→　A.1  \n",
        "$\\color{red}{\\sum_{i=1}^{n}(x_i-\\bar{x})^2=\\sum_{i=1}^{n}x_i^2-n\\bar{x}^2}$と変形できる  \n",
        "yの偏差平方和  \n",
        "$\\color{red}{\\sum_{i=1}^{n}(y_i-\\bar{y})^2=\\sum_{i=1}^{n}y_i^2-n\\bar{y}^2}$  \n",
        "とすると  \n",
        "$\\sum_{i=1}^{n}y_i^2=(-1)^2+0+1^2+2^2=6$ より  \n",
        "$\\sum_{i=1}^{n}y_i^2-n\\bar{y}^2=6-4(2/4)^2=5$  \n",
        "$\\color{red}{s_y^2=\\frac{1}{n}(\\sum_{i=1}^{n}y_i^2-n\\bar{y}^2)}=5/4=1.25$  \n",
        "$\\color{red}{s_y^2=b^2s_x^2}=(1/5)^2s_x^2$なので  \n",
        "$\\color{red}{s_x^2=\\frac{1}{b^2}s_y^2}=5^2\\times1.25=31.25$  \n",
        "$\\color{red}{s_x}=\\sqrt{31.25}=5.59$"
      ]
    },
    {
      "cell_type": "markdown",
      "metadata": {
        "id": "NSt8kwYdqTBL"
      },
      "source": [
        "###$\\color{blue}{変数の標準化}$"
      ]
    },
    {
      "cell_type": "markdown",
      "metadata": {
        "id": "5CZu0U6Zqeuo"
      },
      "source": [
        "標準化または基準化  \n",
        "$\\color{red}{z_i=\\frac{観測値-平均値}{標準偏差}=\\frac{x_i-\\bar{x}}{s}}$  \n",
        "z値または$\\color{blue}{平均値０、\\underline{標準偏差１}}$、の無名数  \n",
        "偏差値（標準化の変形）  \n",
        "$\\color{red}{50+10\\times\\frac{得点-得点の平均値}{得点の標準偏差}=50+10z_i}$  \n",
        "$\\color{blue}{偏差値は平均５０、\\underline{標準偏差１０}}$"
      ]
    },
    {
      "cell_type": "markdown",
      "metadata": {
        "id": "7jsuQjZKqaIs"
      },
      "source": [
        "###$\\color{blue}{変動係数}$"
      ]
    },
    {
      "cell_type": "markdown",
      "metadata": {
        "id": "VSthdHU1sg98"
      },
      "source": [
        "$$\\color{red}{変動係数=\\frac{標準偏差}{平均値}}$$  \n",
        "$$\\color{red}{cv=\\frac{s}{\\bar{x}}}$$  \n",
        "  \n",
        "  $\\color{blue}{平均値が大きく違うときや単位が違う時に、}$\n",
        "  $\\color{blue}{\\underline{散らばりの程度}を標準偏差の大きさだけで}$\n",
        "  $\\color{blue}{比較できないので変動係数を比較する}$  \n",
        "\n",
        "販売価格の小さい順に並べると、標準偏差はおおむね価格が高いほど大きく、変動係数は逆に小さくなる  "
      ]
    },
    {
      "cell_type": "markdown",
      "metadata": {
        "id": "LcFGPvbUt1LK"
      },
      "source": [
        "##3.4 ［進んだ話題］探索的データ解析法と外れ値"
      ]
    },
    {
      "cell_type": "markdown",
      "metadata": {
        "id": "LDkgfvMjwNEU"
      },
      "source": [
        "データの分布を確認せずに平均値や標準偏差を求めることは、誤った解釈につながる恐れがある  \n",
        "  \n",
        "$\\color{blue}{探索的データ解析解析　EDA　Exploratory Data Analysis}$  \n",
        "外れ値の影響を受けにくく、かつ実用的な一連の手法  \n",
        "  \n",
        "箱ひげ図    \n",
        "$\\color{blue}{中央値：(n+1)/2番目}$の観測値  \n",
        "nが奇数：真ん中の観測値  \n",
        "nが偶数：真ん中にある２つの観測値の平均値  \n",
        "  \n",
        "$\\color{blue}{ヒンジ：(n'+1)/2番目}$  \n",
        "$\\color{blue}{n'=[(n+1)/2]}$を$(n+1)/2$を切り捨てて整数にした数値とするときに、大小のヒンジを$(n'+1)/2番目$の観測値とする  \n",
        "つまり、大きさ$n'$の２つの部分標本の中央値を求める  \n",
        "$nが\\color{blue}{偶数}$の時：大きさ$n/2$の二つの部分に分かれる  \n",
        "$nが\\color{blue}{奇数}$の時：$(n+1)/2番目$の$\\underline{中央値は大小いずれの部分にも含まれる}$  \n",
        "$\\color{blue}{ヒンジ}→ \\color{red}{Q_1,Q_3}$  \n"
      ]
    },
    {
      "cell_type": "markdown",
      "metadata": {
        "id": "vtwM-Yb0cz1X"
      },
      "source": [
        "$\\color{blue}{外れ値の基準}$  \n",
        "$IQRの1.5倍か3倍$  \n",
        "外れ値：  \n",
        "$\\color{red}{Q_3+1.5\\times{IQR}}$より大きいか、  \n",
        "$\\color{red}{Q_1-1.5\\times{IQR}}$より小さい観測値   \n",
        "$\\color{blue}{実際の箱ヒゲ図で、上下のヒゲの長さが違うのは、}$ $\\color{blue}{IQRの範囲内で最大値最小値までの距離が異なるため}$  \n",
        "\n"
      ]
    },
    {
      "cell_type": "markdown",
      "metadata": {
        "id": "vHsT01oduV_k"
      },
      "source": [
        "###外れ値の検出と対策"
      ]
    },
    {
      "cell_type": "markdown",
      "metadata": {
        "id": "9RHkFx4jue0P"
      },
      "source": [
        "$\\color{blue}{所得のように右裾が長い分布では、}$  \n",
        "$\\color{blue}{多数の外れ値が検出されるが、EDAでは、}$  \n",
        "$\\underline{\\color{blue}{対数変換などを用いて、分布を対称に近づけてから、}}$  \n",
        "$\\color{blue}{箱ひげ図を参照して外れ値を特定する}$  \n",
        "  \n",
        "頑健　robast  \n",
        "平均値は外れ値に敏感  \n",
        "中央値は外れ値に頑健  \n",
        "頑健統計学  \n"
      ]
    },
    {
      "cell_type": "markdown",
      "metadata": {
        "id": "YJkikToquKZI"
      },
      "source": [
        "#第４章 ２変数データの分析"
      ]
    },
    {
      "cell_type": "markdown",
      "metadata": {
        "id": "Fubiklc_lV64"
      },
      "source": [
        "##4.1 2つの変数の関係"
      ]
    },
    {
      "cell_type": "markdown",
      "metadata": {
        "id": "znOGvlJylUWQ"
      },
      "source": [
        "###質的変数"
      ]
    },
    {
      "cell_type": "markdown",
      "metadata": {
        "id": "t9m_E5bmldeS"
      },
      "source": [
        "クロス集計表  \n",
        "多重クロス集計表　３変数以上  \n"
      ]
    },
    {
      "cell_type": "markdown",
      "metadata": {
        "id": "chTz8_URl2Yt"
      },
      "source": [
        "###量的変数"
      ]
    },
    {
      "cell_type": "markdown",
      "metadata": {
        "id": "KR7Yob_Ol7RU"
      },
      "source": [
        "散布図  \n",
        "　正の相関関係  \n",
        "　負の相関関係  \n",
        "　無相関  \n",
        "　直線に近い時、強い相関関係  \n",
        "  \n",
        "  ２変数の度数分布表  \n",
        "  　2次元の同時分布、  \n",
        "  　周辺分布（縦横１変数分合計）  \n",
        "  　$\\color{blue}{観測値の個数が多いデータの場合は、}$  \n",
        "  　　$\\color{blue}{度数分布表のような集計が役に立つ}$  \n",
        "  　$\\color{blue}{２つの周辺分布が与えられても、}$  \n",
        "  　　$\\color{blue}{２変数の同時分布は求められない}$"
      ]
    },
    {
      "cell_type": "markdown",
      "metadata": {
        "id": "9GW259Q6ld6B"
      },
      "source": [
        "##4.2 層別散布図"
      ]
    },
    {
      "cell_type": "markdown",
      "metadata": {
        "id": "pjejn3HQtb1a"
      },
      "source": [
        "##4.3 $\\color{blue}{相関係数★}$"
      ]
    },
    {
      "cell_type": "markdown",
      "metadata": {
        "id": "tbYomlElU4v_"
      },
      "source": [
        "$\\color{blue}{散布図では縦軸と横軸の比を変えると、}$  \n",
        "$\\color{blue}{情報を読み間違える可能性もある}$  \n",
        "  \n",
        "$\\color{blue}{●共分散}　\\color{red}{s_{xy}}$  \n",
        "$\\color{blue}{(x_1,y_1),\\cdots,(x_n,y_n)}$  \n",
        "2変数の共分散$s_{xy}$  \n",
        "$$\\color{red}{s_{xy}=\\frac{1}{n}\\sum_{i=1}^{n}(x_i-\\bar{x})(y_i-\\bar{y})}$$  \n",
        "　それぞれの偏差$(x_i-\\bar{x}),(y_i-\\bar{y})$  \n",
        "　$\\color{blue}{共分散は、それぞれの偏差を２辺とする「長方形の面積」の総和を}$  \n",
        "　$\\color{blue}{観測値の「個数n」で割ったもの}$  \n",
        "　・右上・左下　正　→正の相関  \n",
        "　・左上・右下　負　→負の相関  \n",
        "　・上下左右まんべんなくは　０に近づく  \n",
        "  \n",
        "　$\\sum_{i=1}^{n}(x_i-\\bar{x})(y_i-\\bar{y})=\\sum_{i=1}^{n}x_iy_i-n\\bar{x}\\bar{y}$  \n",
        "　$\\color{blue}{・短所：変数の単位に依存して変化する}$  \n",
        "　↓  \n",
        "$\\color{blue}{●相関係数}　\\color{red}{r}$  \n",
        "　標準偏差偏差　$s_x,s_y$　相関係数　$r$  \n",
        "$$\\color{red}{r=\\frac{\\frac{1}{n}\\sum_{i=1}^{n}(x_i-\\bar{x})(y_i-\\bar{y})}{\\sqrt{\\frac{1}{n}\\sum_{i=1}^{n}(x_i-\\bar{x})^2}\\sqrt{\\frac{1}{n}\\sum_{i=1}^{n}(y_i-\\bar{y})^2}}=\\frac{s_{xy}}{s_xs_y}}$$  \n",
        "ここでxとyを標準化して  \n",
        "$u_i=\\frac{x_i-\\bar{x}}{s_x},v_i=\\frac{y_i-\\bar{y}}{s_y}$　とおく  \n",
        "$\\bar{u}=\\bar{v}=0$ であるから  \n",
        "$uとvの共分散は$  \n",
        "$s_{uv}=\\frac{1}{n}\\sum_{i=1}^{n}(u_i-\\bar{u})(v_i-\\bar{v})=\\frac{1}{n}\\sum_{i=1}^{n}u_iv_i=\\frac{1}{n}\\sum_{i=1}^{n}(\\frac{x_i-\\bar{x}}{s_x})(\\frac{y_i-\\bar{y}}{s_y})=\\frac{s_{xy}}{s_xs_y}$  \n",
        "$\\color{blue}{相関係数は、標準化された値同士の共分散}$  \n",
        "$\\underline{相関係数は、xとy標準化したu,vの共分散であることから}$  \n",
        "$\\underline{、xやyを正の定数倍したり定数を加減して単位を変換しても、変化しない}$  \n",
        "  \n",
        "相関係数は−１以上１以下  \n",
        "$r=1$:すべての$(x_i,y_i)$が正の傾きを持つ直線上にある  \n",
        "$r=-1:$すべての$(x_i,y_i)$が負の傾きを持つ直線上にある  \n"
      ]
    },
    {
      "cell_type": "markdown",
      "metadata": {
        "id": "usoPw3U-tf9J"
      },
      "source": [
        "##4.4 相関係数の注意点"
      ]
    },
    {
      "cell_type": "markdown",
      "metadata": {
        "id": "ktZdH-S9fDoB"
      },
      "source": [
        "$\\color{blue}{２変数間の関係が直線的}$でなければその強さを適切に測ることをできない  \n",
        "　$\\underline{左右対象の２次曲線状}$  \n",
        "　　→　$\\color{blue}{rの分子s_{xy}が０に近くなるので、相関係数rも０に近くなる}$  \n",
        "  \n",
        "相関係数は$\\color{blue}{外れ値の影響を強く受ける}$ので、$\\underline{散布図}$を見ることが重要  \n",
        "  \n",
        "  データに$\\color{blue}{欠損値}$がある場合、全データから抜粋した$\\color{blue}{一部のデータを用いる場合}$、相関係数が大きく変化する場合がある  \n",
        "\n",
        "  グループ情報が与えられている場合は、$\\underline{層別散布図}$を描き、$\\color{blue}{グループごとの相関係数}$を検討することが望ましい"
      ]
    },
    {
      "cell_type": "markdown",
      "metadata": {
        "id": "4flW5lsetlN0"
      },
      "source": [
        "##4.5 相関と因果"
      ]
    },
    {
      "cell_type": "markdown",
      "metadata": {
        "id": "ZkbGzrhy6UKk"
      },
      "source": [
        "###相関関係と因果関係"
      ]
    },
    {
      "cell_type": "markdown",
      "metadata": {
        "id": "uWUV_bN66n-m"
      },
      "source": [
        "$\\color{blue}{相関係数の絶対値が小さい　必ずしも関係がないとは言えない}$  \n",
        "$\\color{blue}{相関係数の絶対値が大きい　必ずしも関係があるとは言えない}$  \n",
        "$\\color{blue}{散布図を描くことが重要}$  \n",
        "  \n",
        "  因果関係  \n",
        "相関関係が強くても、必ずしも因果関係を意味するわけではない  \n",
        "２変数間に因果を判断できる$\\color{blue}{根拠}$が必要"
      ]
    },
    {
      "cell_type": "markdown",
      "metadata": {
        "id": "Sy2nEAci91Ix"
      },
      "source": [
        "###因果関係の研究"
      ]
    },
    {
      "cell_type": "markdown",
      "metadata": {
        "id": "MN2fo7eo98yj"
      },
      "source": [
        "実験研究  \n",
        "観察研究  \n",
        "明確な根拠がない現象の因果関係の有無を調べるには、少なくとも$\\color{blue}{実験研究}$を行わなくてはいけない"
      ]
    },
    {
      "cell_type": "markdown",
      "metadata": {
        "id": "ZgQdZVuIAL0y"
      },
      "source": [
        "###擬相関（見かけ上の相関）"
      ]
    },
    {
      "cell_type": "markdown",
      "metadata": {
        "id": "jXHk4kkLBKfh"
      },
      "source": [
        "２変数x,y両方に影響を与える$\\color{blue}{第3の変数z}$が存在したために、xとyの間に相関関係が見られるという現象を$\\color{blue}{擬相関（見かけ上の相関）}$という  \n",
        "例：  \n",
        "一般病院年間入院患者数と一般病院数  \n",
        "　相関係数：0.95  \n",
        "一般病院年間入院患者数と一般病院数（１０万人当たり）　  \n",
        "　相関係数：0.70  \n",
        "$\\color{blue}{原因z：人口}$"
      ]
    },
    {
      "cell_type": "markdown",
      "metadata": {
        "id": "bcCpsqC-trjU"
      },
      "source": [
        "#第５章 回帰直線と予測"
      ]
    },
    {
      "cell_type": "markdown",
      "metadata": {
        "id": "WxXX2jtSt4K4"
      },
      "source": [
        "##5.1 回帰分析"
      ]
    },
    {
      "cell_type": "markdown",
      "metadata": {
        "id": "BBC0QVPVKDKp"
      },
      "source": [
        "●相関係数：  \n",
        "$\\color{blue}{２変数の因果関係を前提としない。}$  \n",
        "$\\underline{\\color{blue}{xとyを逆にしても相関係数は同じ。}}$  \n",
        "\n",
        "●回帰分析：  \n",
        "$\\color{red}{２変数の何らかの\\underline{因果関係}を想定。}$  \n",
        "$\\color{blue}{変数xから変数yを予測する。}$  \n",
        "x：説明変数  \n",
        "y：被説明変数、目的変数  \n",
        "回帰直線：$\\color{red}{y=α+βx}$  \n",
        "回帰係数：$\\color{red}{α,β}$"
      ]
    },
    {
      "cell_type": "markdown",
      "metadata": {
        "id": "BflcQnxCLx49"
      },
      "source": [
        "###回帰直線"
      ]
    },
    {
      "cell_type": "markdown",
      "metadata": {
        "id": "9lSEJw4YL2Vn"
      },
      "source": [
        "バネ  \n",
        "$y=α+βx$  \n",
        "$\\color{blue}{推定値}$：$\\color{red}{\\hat{α},\\hat{β}}$  \n",
        "$\\color{blue}{予測値}$：$\\color{red}{\\hat{y}}$  \n",
        "$y=\\hat{α}+\\hat{β}x$　に$x=10(g)$を代入  \n",
        "予測値　$\\color{red}{\\hat{y}}(mm)$を計算できる  \n",
        "$\\underline{バネの自然長}$は、$\\color{red}{x=0}$　で$\\color{red}{\\hat{α}}(mm)$"
      ]
    },
    {
      "cell_type": "markdown",
      "metadata": {
        "id": "Szz-3hpEt7_a"
      },
      "source": [
        "##5.2 $\\color{blue}{最小二乗法}$"
      ]
    },
    {
      "cell_type": "markdown",
      "metadata": {
        "id": "-bhd55m5OcRe"
      },
      "source": [
        "$x_i(g),y_i(mm)$  \n",
        "$i番目の観測値(x_i,y_i)$　に対して  \n",
        "予測値 $\\color{red}{\\hat{y_i}=\\hat{α}+\\hat{β}x_i}$　を考える  \n",
        "$\\color{blue}{観測値}y_i$と$\\color{blue}{予測値}\\hat{y}_i$との差$\\color{red}{y_i-\\hat{y}_i}$を$\\color{blue}{「残差」}$という  \n",
        "すべての残差の平方和  \n",
        "$\\color{blue}{残差平方和}$：$(y_1-\\hat{y}_1)^2+(y_2-\\hat{y}_2)^2+\\cdots+(y_n-\\hat{y}_n)^2=\\color{red}{\\sum_{i=1}^{n}(y_i-\\hat{y}_i)^2}$  \n",
        "この式に$\\color{red}{\\hat{y}_i=\\hat{α}+\\hat{β}x_i}$を代入  \n",
        "$\\color{red}{S(\\hat{α},\\hat{β})}=(y_1-\\hat{α}-\\hat{β}x_1)^2+(y_2-\\hat{α}-\\hat{β}x_2)^2+\\cdots+(y_n-\\hat{α}-\\hat{β}x_n)^2=\\color{red}{\\sum_{i=1}^{n}(y_i-\\hat{α}-\\hat{β}x_i)^2}$  \n",
        "平方和なので、$S(α,β)>0$  \n",
        "この値を最小にするように回帰係数を決める  \n",
        "推定値$αとβ$は、正規方程式（連立方程式）で求める  \n",
        "$\\color{red}{\\hat{β}=\\frac{s_{xy}}{s_x^2}(=r_{xy}\\frac{s_y}{s_x})}$  \n",
        "$(ただしs_{xy}は共分散、相関係数r_{xy}=\\frac{s_{xy}}{s_xs_y})$  \n",
        "$\\color{red}{\\hat{α}=\\bar{y}-\\hat{β}\\bar{x}}$  \n",
        "$\\color{blue}{回帰直線の傾きと相関係数には関係がある}$  \n",
        "データより  \n",
        "$\\hat{β}=\\frac{401}{73}=5.5$  \n",
        "$\\hat{α}=206-5.5\\times19=101.5$  \n",
        "回帰直線は：  \n",
        "$y=101.5+5.5x$  \n",
        "重り重り20gの場合、$\\hat{y}=101.5+5.5\\times20=211.5(mm)$  \n",
        "211.5は予測であって、平均的に211.5mmになると考える  \n"
      ]
    },
    {
      "cell_type": "markdown",
      "metadata": {
        "id": "HRzF3TD6fyLH"
      },
      "source": [
        "例題5.1  \n",
        "重り30gのとき  \n",
        "予測値：$\\hat{y}=101.5+5.5\\times30=266.5$  \n",
        "残差：$272-266.5=5.5(mm)$"
      ]
    },
    {
      "cell_type": "markdown",
      "metadata": {
        "id": "oYGZ9_7phtnU"
      },
      "source": [
        "###回帰分析の注意点"
      ]
    },
    {
      "cell_type": "markdown",
      "metadata": {
        "id": "DGgokQB7hyXm"
      },
      "source": [
        "・２変数間の関係が$\\color{blue}{直線的と見做せない場合}$、２次曲線などの方が当てはまりがいい場合がある  \n",
        "・$\\color{blue}{外れ値がある場合}$、その値に影響されるので、求められた式を解釈するときには注意が必要  \n",
        "・$\\color{blue}{複数のグループが混在している場合}$、グループごとに回帰直線を求める方が好ましい  \n",
        "  \n",
        "  ・求められた回帰直線を用いて、$\\color{blue}{被説明変数yから説明変数xを予測してはいけない！}$  \n",
        "  　yの残差に対する最小二乗法を用いて回帰直線を導出したため  \n",
        "  ・与えられたデータが存在する範囲から$\\color{blue}{大きく離れているx}$に対しては単純に予測に利用してはならない   $\\color{blue}{「外挿」は避けるべき}$"
      ]
    },
    {
      "cell_type": "markdown",
      "metadata": {
        "id": "ESXARhYuuBdT"
      },
      "source": [
        "##5.3 [進んだ話題]回帰直線に関する歴史"
      ]
    },
    {
      "cell_type": "markdown",
      "metadata": {
        "id": "gvjJWhefXXGP"
      },
      "source": [
        "平均への回帰  \n",
        "ゴルトン 「親子の身長」"
      ]
    },
    {
      "cell_type": "markdown",
      "metadata": {
        "id": "zFN3r9HMuOer"
      },
      "source": [
        "##5.4 [進んだ話題]決定係数"
      ]
    },
    {
      "cell_type": "markdown",
      "metadata": {
        "id": "iSZ_LDZaYZ80"
      },
      "source": [
        "###$\\color{blue}{平方和の分解}$"
      ]
    },
    {
      "cell_type": "markdown",
      "metadata": {
        "id": "aHsxGmTNYn2P"
      },
      "source": [
        "・$\\color{blue}{総平方和}$  \n",
        "$\\color{red}{S_T}=(y_1-\\bar{y})^2+(y_2-\\bar{y})^2+\\cdots+(y_n-\\bar{y})^2=\\color{red}{\\sum_{i=1}^{n}(y_i-\\bar{y})^2}$  \n",
        "・$\\color{blue}{回帰による平方和}$  \n",
        "$\\color{red}{S_R}=(\\hat{y}_1-\\bar{y})^2+(\\hat{y}_2-\\bar{y})^2+\\cdots+(\\hat{y}_n-\\bar{y})^2=\\color{red}{\\sum_{i=1}^{n}(\\hat{y}_i-\\bar{y})^2}$  \n",
        "・$\\color{blue}{残差平方和}$  \n",
        "$\\color{red}{S_e}=(y_1-\\hat{y_1})^2+(y_2-\\hat{y_2})^2+\\cdots+(y_n-\\hat{y_n})^2=\\color{red}{\\sum_{i=1}^{n}(y_i-\\hat{y_i})^2}$  \n",
        "  \n",
        "  \n",
        "$S_T=(y_1-\\bar{y})^2+\\cdots+(y_n-\\bar{y})^2$  \n",
        "　　$=(y_1-\\hat{y}_1+\\hat{y}_1-\\bar{y})^2+\\cdots+(y_n-\\hat{y}_n+\\hat{y}_n-\\bar{y})^2$  \n",
        "　　$=[(y_1-\\hat{y}_1)^2+\\cdots+(y_n-\\hat{y}_n)^2]+[(\\hat{y}_1-\\bar{y})^2+\\cdots+(\\hat{y}_n-\\bar{y})^2]$  \n",
        "　　$=[(\\hat{y}_1-\\bar{y})^2+\\cdots+(\\hat{y}_n-\\bar{y})^2]+[(y_1-\\hat{y}_1)^2+\\cdots+(y_n-\\hat{y}_n)^2]$  \n",
        "つまり  \n",
        "$\\color{red}{S_T=S_R+S_e}$  \n",
        "$y$ の分散は、$S_T/n$なので、$y$ の分散を回帰直線によって説明できた部分と説明できなかた部分に分解したと考えられる。  \n"
      ]
    },
    {
      "cell_type": "markdown",
      "metadata": {
        "id": "IoYi9Jq8lBTV"
      },
      "source": [
        "###$\\color{blue}{決定係数と重相関係数}$"
      ]
    },
    {
      "cell_type": "markdown",
      "metadata": {
        "id": "TRcgzFa_lIuv"
      },
      "source": [
        "●決定係数$\\color{red}{R^2}$  \n",
        "「変数$y$の散らばり具合に対する回帰直線によって説明できた部分の割合」  \n",
        "を「当てはまりのよさ」「説明力」  \n",
        "$\\color{red}{R^2=\\frac{S_R}{S_T}}$  \n",
        "・回帰直線に完全に当てはまる場合  \n",
        "$\\color{red}{S_e=0,S_T=S_R}$なので、$\\underline{\\color{red}{R^2=1}}$となる  \n",
        "・回帰直線に全く当てはまらない場合  \n",
        "$\\color{red}{S_R=0}$なので、、$\\underline{\\color{red}{R^2=0}}$  \n",
        "なので、$\\color{blue}{決定係数は０から１の値をとる}$  \n"
      ]
    },
    {
      "cell_type": "markdown",
      "metadata": {
        "id": "erh21x70pYB7"
      },
      "source": [
        "●重相関係数$\\color{red}{|R|}$  \n",
        "回帰分析のなかで$\\color{blue}{\\underline{回帰直線}の場合についてのみ}$  \n",
        "$\\color{blue}{決定係数と相関係数は}$  \n",
        "$\\color{red}{R^2=r^2}$  \n",
        "が成り立つ（２次曲線などでは成り立たない）  \n",
        "ここでは**単回帰**について説明したが、**重回帰**についても成り立つ  \n",
        "  \n",
        "  $\\color{blue}{決定係数\\color{red}{R^2}の正の平方根は、観測値\\color{red}{y_i}と予測値\\color{red}{\\hat{y}_i}の間の相関係数}$  \n",
        "  →**重相関係数**"
      ]
    },
    {
      "cell_type": "markdown",
      "metadata": {
        "id": "C-eD-sRBuYw7"
      },
      "source": [
        "#第６章 確率"
      ]
    },
    {
      "cell_type": "markdown",
      "metadata": {
        "id": "xNeMpz8wuicK"
      },
      "source": [
        "##6.1 事象と確率"
      ]
    },
    {
      "cell_type": "markdown",
      "metadata": {
        "id": "wE3E5_EDsVY7"
      },
      "source": [
        "事象：起こるか起こらないか不確かな事柄  \n",
        "確率：その起こりやすさの程度  \n",
        "試行：事象を得るための実験や観察  \n",
        "根元事象：それ以上分割できない事象「雨が降る」「雨が降らない」  \n",
        "全事象：根源事象の全体  \n",
        "  \n",
        "  全事象→全集合：$U$  \n",
        "  事象→部分集合：$A,B$  \n",
        "  根元事象→各要素：$a,b$あるいは数字  \n",
        "根元事象１個の集合は→  $\\{a\\}\\{b\\}$  \n",
        "サイコロを１回投げる例  \n",
        "$U=\\{1,2,\\cdots,6\\}$  \n",
        "偶数の目が出る事象　$A=\\{2,4,6\\}$"
      ]
    },
    {
      "cell_type": "markdown",
      "metadata": {
        "id": "KF0LoOhgyT9m"
      },
      "source": [
        "ベン図  \n",
        "和集合　$A\\cup{B}$  \n",
        "積集合　$A\\cap{B}$  \n",
        "余事象　$\\overline{A},A^c$  \n",
        "排反　　$B\\cap{C}=\\emptyset$  \n",
        "空集合　$\\emptyset$  \n"
      ]
    },
    {
      "cell_type": "markdown",
      "metadata": {
        "id": "A_3Yldm50gD-"
      },
      "source": [
        "###古典的確率"
      ]
    },
    {
      "cell_type": "markdown",
      "metadata": {
        "id": "OtHvsev5ieFv"
      },
      "source": [
        "$\\color{blue}{全ての根源事象が生じる可能性が同様に確からしい}$  \n",
        "$\\color{blue}{（起こりやすい）と仮定できる場合には、}$  \n",
        "$\\color{blue}{事象に含まれる根源事象の数に基づいて、}$  \n",
        "$\\color{blue}{その事象の確率を決める}$  \n",
        "++++++++++  \n",
        "$\\color{blue}{同様に確からしいと仮定できる根元事象}：n個$  \n",
        "$\\color{blue}{ある事象Aに含まれる根元事象}：k個$  \n",
        "Aの起こる確率：$\\color{red}{P(A)=\\frac{k}{n}}$  \n",
        "  コインの裏表　$1/2$  \n",
        "  $無作為 random 抽出$  \n",
        "●例題６.１  \n",
        "  サイコロ $U=\\{1,2,3,4,5,6\\},A=\\{2,4,6\\},P(A)=3/6=1/2$  \n",
        "●例題６.２  \n",
        "赤いカード２０枚、青いカード３０枚  \n",
        "赤を選ぶ確率$20/50=2/5$  \n",
        "●例題６.３  \n",
        "１から４までのカード  \n",
        "２枚同時に引くとき、１が含まれる確率  \n",
        "$4\\times{3}=12$  \n",
        "(1,2)(1,3)(1,4)(2,1)(3,1)(4,1)  \n",
        "$6/12=1/2$  \n",
        "●例題６.４  \n",
        "２つのサイコロを投げて、目の和が６以下  \n",
        "$15/36=5/12$  \n",
        "●例題６.５  \n",
        "例題６.４で目の和が７位上  \n",
        "$21/36=7/12$  \n",
        "余事象  \n",
        "目の和が６以下となる事象を$\\color{red}{A}$  \n",
        "目の和が７位上となる事象は余事象$\\color{red}{\\overline{A}}$  \n",
        "根元事象の総数$\\color{red}{n}$  \n",
        "$\\color{red}{A}$の根源事象$\\color{red}{k}$  \n",
        "$\\color{red}{\\overline{A}}$の根元事象数$\\color{red}{n-k}$  \n",
        "$A$が起こる確率$\\color{red}{P(A)=k/n=p}$と置けば  \n",
        "$A$が起こらない確率は、、$\\color{red}{1-p (=(n-k)/n)}$  \n",
        "よって、、$1-5/12=7/12$"
      ]
    },
    {
      "cell_type": "markdown",
      "metadata": {
        "id": "mHrM3uxP0kp7"
      },
      "source": [
        "###頻度確率"
      ]
    },
    {
      "cell_type": "markdown",
      "metadata": {
        "id": "i0CQd6kWsaB5"
      },
      "source": [
        "$\\color{blue}{古典的確率の欠点}$  \n",
        "・根元事象の確率がすべて等しいとは言えない場合  \n",
        "・根元事象の数が無限個の場合  \n",
        "　例えば1の目が出るまでサイコロを投げ続けた場合  \n",
        "  \n",
        "$\\color{blue}{反復試行}$によって得られた根元事象の$\\color{blue}{相対頻度}$に基づき確率を求める  \n",
        "コインを５００回投げた結果  \n",
        "横軸：投げた回数  \n",
        "縦軸：それまでに表が出た割合　→　ある値に収斂していく  \n",
        "  \n",
        "  全事象$\\color{red}{U=\\{a_i|i=1,2,\\cdots,K\\}}$  \n",
        "$\\color{red}{a_i}$は$\\color{blue}{根元事象}$  \n",
        "$\\color{red}{K}$は$\\color{blue}{根元事象の総数}$　$K=\\infty$でもよい  \n",
        "反復試行を繰り返し、各$a_i$が起こった確率（相対頻度）を考える  \n",
        "試行回数が無限大の時の相対頻度の極限値を$\\color{red}{p_i}$とする  \n",
        "この時の事象$A$の頻度確率は  \n",
        "$\\color{red}{P(A)=\\sum_{a_i\\in{A}}p_i}$  \n",
        "たとえば、  \n",
        "$\\color{red}{A~\\{a_1,a_3,a_5\\}}$ならば  \n",
        "$\\color{red}{P(A)=p_1+p_3+p_5}$  \n",
        "このとき。  \n",
        "$\\color{red}{P(U)=1,}$  \n",
        "$\\color{red}{P(A)=1-P(\\overline{A})}$  \n",
        "など、古典的確率が満たすすべての性質を頻度確率も満たす"
      ]
    },
    {
      "cell_type": "markdown",
      "metadata": {
        "id": "ib9VA_d20pOw"
      },
      "source": [
        "###$\\color{blue}{公理的確率}$"
      ]
    },
    {
      "cell_type": "markdown",
      "metadata": {
        "id": "cdhyHS-vqnRR"
      },
      "source": [
        "頻度確率も欠点がある  \n",
        "・各試行において実験・観測を行う$\\color{blue}{環境や条件を同一にするのが困難な場合}$がある  \n",
        "・同一の条件・環境下であっても$\\color{blue}{無限回実施は不可能}$である  \n",
        "　従って$\\color{blue}{有限回の n回 で反復試行を打ち切り}$、そのときまでにそのときまでに $\\color{red}{a_i}$ が $\\color{red}{n_i}$回 起こったとすれば、$\\color{red}{p_i}$ をその時の相対度数 $\\color{red}{n_i/n}$ で近似せざるを得ない  \n",
        "  \n",
        "  公理的確率  \n",
        "  ★確率の公理  \n",
        "  （１）任意の事象$\\color{red}{A(\\subset{U})}$は、$\\color{red}{0\\leqq{P(A)}\\leqq{1}}$を満たす  \n",
        "  （２）全事象$\\color{red}{U}$は、$\\color{red}{P(U)=1}$を満たす  \n",
        "  （３）$\\color{blue}{無限個の事象}$$\\color{red}{A_1,A_2,\\cdots}$が$\\underline{互いに排反なとき}$、すなわち$\\color{red}{A_i\\cap{A_j}=\\emptyset(i\\neq{j})}$が成り立つとき  \n",
        " $$\\color{red}{P(A_1\\cup{A_2}\\cup{\\cdots})=P(A_1)+P(A_2)+\\cdots}$$  \n",
        " を満たす  \n",
        "公理（３）は$\\color{blue}{有限個の排反な事象}$  \n",
        "$\\color{red}{A_i(i=1,\\cdots,k), A_i\\cap{A_j}=\\emptyset (i\\neq{j})}$についてもなりたつ  \n",
        "$\\color{red}{P(A_1\\cup{A_2}\\cup{\\cdots}\\cup{A_k})=P(A_1)+P(A_2)+\\cdots+P(A_k)}$  \n",
        "これにより古典的確率や頻度確率が満たす以下の性質も成立する  \n",
        "$\\color{red}{P(\\overline{A})=1-P(A),}$  \n",
        "$\\color{red}{P(\\emptyset)=0}$"
      ]
    },
    {
      "cell_type": "markdown",
      "metadata": {
        "id": "jlaPY7MLunhn"
      },
      "source": [
        "##6.2 事象の独立性と試行の独立性"
      ]
    },
    {
      "cell_type": "markdown",
      "metadata": {
        "id": "eqDrodRv24y7"
      },
      "source": [
        "$\\color{blue}{●事象の独立性}$  \n",
        "２つのサイコロを投げた時  \n",
        "事象A：大きなサイコロの目が３  \n",
        "事象B：小さなサイコロの目が２  \n",
        "事象C：大きなサイコロの目が３で、小さなサイコロの目が２  \n",
        "事象Cは事象Aと事象Bの積集合  \n",
        "$\\color{red}{P(A\\cap{B})=P(A)P(B)}$  \n",
        "$\\color{blue}{このとき、事象AとBは独立である}$  \n",
        "独立な場合には、確率の計算は容易  \n",
        "  \n",
        "  事象D:大きなサイコロの目が３以下  \n",
        "  事象E:２つのサイコロの目の和が６  \n",
        "  $P(D)=1/2,P(E)=5/36,P(D\\cap{E})=1/12$  \n",
        "  $\\color{blue}{なので、事象D,Eは独立とは言えない}$"
      ]
    },
    {
      "cell_type": "markdown",
      "metadata": {
        "id": "MBrhJMvz5pxP"
      },
      "source": [
        "$\\color{blue}{●試行の独立性}$  \n",
        "一般に２つの試行$T_1,T_2$に対して、  \n",
        "$\\color{blue}{T_1によって決まるすべての事象と、}$  \n",
        "$\\color{blue}{T_2によって決まるすべての事象が}$  \n",
        "$\\color{blue}{独立である時、}$  \n",
        "$\\color{blue}{T_1とT_2は独立であるという}$  \n",
        "事象A：$T_1$によって決まる任意の事象  \n",
        "事象B：$T_2$によって決まる任意の事象  \n",
        "$\\color{red}{P(A\\cap{B})=P(A)P(B)}$  \n",
        "$\\color{blue}{が成り立つ時、試行T_1とT_2は独立である}$  \n",
        "  \n",
        "\n"
      ]
    },
    {
      "cell_type": "markdown",
      "source": [
        "$\\color{blue}{●反復試行の確率}$  \n",
        "ある事象Aが起こる確率をを$p(0\\leqq{p}\\leqq1)$とする  \n",
        "同じ思考を同じ思考を$n$回繰り返した時に、事象Aが$k$回起こる確率は、  \n",
        "$\\color{red}{_nC_kp^k(1-p)^{n-k}}$\n"
      ],
      "metadata": {
        "id": "e_x55RUbHVm2"
      }
    },
    {
      "cell_type": "markdown",
      "metadata": {
        "id": "x5i0fSQDuvuQ"
      },
      "source": [
        "##6.3 $\\color{blue}{条件付き確率}$"
      ]
    },
    {
      "cell_type": "markdown",
      "metadata": {
        "id": "_cFSjLw9BC_Y"
      },
      "source": [
        "$\\color{blue}{事象Aが起こったという条件に下で、Bが起こる確率}$  \n",
        "事象Aが与えられた時の**事象Bの条件付き確率**  \n",
        "$$\\color{red}{P(B|A)=\\frac{P(A\\cap{B})}{P(A)}}$$  \n",
        "ただし$P(A)>0を仮定$"
      ]
    },
    {
      "cell_type": "markdown",
      "metadata": {
        "id": "Gix1wHSOD6Xt"
      },
      "source": [
        "例題６.１１  \n",
        "事象A：A中学出身  \n",
        "事象B：男子である  \n",
        "$P(A)=15/40,P(A\\cap{B})=10/40$  \n",
        "条件付き確率は  \n",
        "$P(B|A)=\\frac{P(A\\cap{B})}{P(A)}=\\frac{10/40}{15/40}=\\frac{2}{3}$  \n"
      ]
    },
    {
      "cell_type": "markdown",
      "metadata": {
        "id": "2dr7QBA-FLJt"
      },
      "source": [
        "条件付き確率の式を変形すると；$\\color{blue}{乗法定理}$  \n",
        "$$\\color{red}{P(A\\cap{B})=P(A)P(B|A)}$$  \n",
        "  \n",
        "  例題６.１２  \n",
        "  １０本のくじ、当たり３本、２人が順番にくじを引く、  \n",
        "  $A$:１人目あたり、$B$:２人目はずれの確率  \n",
        "  $P(A\\cap{B})=P(A)P(B|A)=\\frac{3}{10}\\times{\\frac{7}{9}}=\\frac{7}{30}$"
      ]
    },
    {
      "cell_type": "markdown",
      "metadata": {
        "id": "mjmLDMcsu2cR"
      },
      "source": [
        "##6.4 $\\color{blue}{ベイズの定理}$"
      ]
    },
    {
      "cell_type": "markdown",
      "metadata": {
        "id": "_lT8p3GrHWNa"
      },
      "source": [
        "事象$\\color{red}{A}$:$\\color{blue}{血液検査で陽性反応}$  \n",
        "事象$\\color{red}{B}$:$\\color{blue}{ウイルスを保菌している}$  \n",
        "$P(B\\mid{A})$：血液検査で陽性反応が出て、ウイルスを保菌している確率  \n",
        "・$\\color{red}{P(B\\mid{A})=\\frac{P(A\\cap{B})}{P(A)}}$　　・・・条件付き確立  \n",
        "  \n",
        "・$\\color{red}{P(B\\mid{A})=\\frac{P(B)P(A\\mid{B})}{P(B)P(A\\mid{B})+P(\\overline{B})P(A\\mid{\\overline{B}})}}$  \n",
        "  \n",
        "なぜなら  \n",
        "　分子は、$P(A\\cap{B})=P(B)P(A\\mid{B})$  \n",
        "　分母は、  \n",
        "　全事象$U$、  \n",
        "　　$A=A\\cap{U}=A\\cap{(B\\cup{\\overline{B}})}$  \n",
        "　　$=(A\\cap{B})\\cup(A\\cap{\\overline{B}})$  \n",
        "　$(A\\cap{B})と(A\\cap{\\overline{B}})$は互いに排反だから、  \n",
        "　$\\color{blue}{P(A)=P(A\\cap{B})+P(A\\cap{\\overline{B}})}$が成り立つ  \n",
        "　従って条件確率の定義から  \n",
        "　$\\color{blue}{P(A)=P(B)P(A\\mid{B})+P(\\overline{B})P(A\\mid{\\overline{B}})}$"
      ]
    },
    {
      "cell_type": "markdown",
      "metadata": {
        "id": "SRYLm0fLESHV"
      },
      "source": [
        "ここで、  \n",
        "$\\color{red}{P(B)=0.0001}$　全体の感染率、ウイルス保菌率  \n",
        "$\\color{red}{P(A\\mid{B})=0.99}$　感度：保菌者陽性率　$\\color{red}{\\frac{真陽性}{真陽性+偽陰性}}$  \n",
        "$\\color{red}{P(A\\mid{\\overline{B}})=0.01}$　非保菌者の陽性率　$\\color{red}{\\frac{偽陽性}{偽陽性+真陰性}}$  \n",
        "このとき、  \n",
        "$\\color{red}{P(B\\mid{A})=0.0098}$　陽性者の保菌率　$\\color{red}{\\frac{真陽性}{真陽性+偽陽性}}$  \n",
        "となる  \n",
        "$\\color{red}{P(B\\mid{A})=\\frac{0.0001\\times{0.99}}{0.0001\\times{0.99}+0.9999\\times{0.01}}=0.0098}$"
      ]
    },
    {
      "cell_type": "markdown",
      "metadata": {
        "id": "nG-LeTJpT5I9"
      },
      "source": [
        "[参考文献：感度・特異度・ROC曲線](https://jeaweb.jp/files/about_epi_research/contest2016_1.pdf)"
      ]
    },
    {
      "cell_type": "markdown",
      "metadata": {
        "id": "M8FG4mk3WjhU"
      },
      "source": [
        "$★$  \n",
        "$\\color{red}{A}：\\color{blue}{ある現象}（陽性反応がでる）$  \n",
        "$\\color{red}{B}：\\color{blue}{Aを生じさせる原因}（ウイルス感染）$  \n",
        "$\\color{red}{P(A\\mid{B})}$：BのもとでAが生じる確率（ウイルス感染して陽性反応が出る）  \n",
        "$\\color{red}{P(B\\mid{A})}$：Aが生じた時にその原因がB（陽性反応の原因がウイルス感染）  \n",
        "$\\color{red}{P(A\\mid{B})}\\color{blue}{が大きくても}\\color{red}{P(B)}\\color{blue}{が小さい場合は、}$\n",
        "$\\color{red}{P(B\\mid{A})}\\color{blue}{も小さくなる場合がある。}$  \n",
        "$\\color{blue}{感度が大きくても、全体の感染率が低い時は、}$  \n",
        "$\\color{blue}{真陽性率は低くなる。}$"
      ]
    },
    {
      "cell_type": "markdown",
      "metadata": {
        "id": "DLsnZq1Aaobv"
      },
      "source": [
        "複数に原因がある場合に拡張  \n",
        "事象$A$  \n",
        "互いに排反な事象$B_i(i=1,\\cdots,k),B_i\\cap{B_j}=\\emptyset(i\\neq{j})$  \n",
        "$U=B_1\\cup{B_2}\\cup{}\\cdots\\cup{B_k}$  \n",
        "このとき  \n",
        "$\\color{red}{P(B_i\\mid{A})=\\frac{P(A\\cap{B_i})}{P(A)}=\\frac{P(B_i)P(A\\mid{B_i})}{P(B_1)P(A\\mid{B_1})+P(B_2)P(A\\mid{B_2})+\\cdots+P(B_k)P(A\\mid{B_k})}}$ ・・・$\\color{blue}{「ベイズの定理」}$  \n",
        "  \n",
        "  上記の例は$k=2,B_1=B,B_2=\\overline{B}$の例  \n",
        "  分母の$P(A)$の変形は、$\\color{blue}{「全確立の定理」}$"
      ]
    },
    {
      "cell_type": "markdown",
      "metadata": {
        "id": "fFdCRjHCu8M0"
      },
      "source": [
        "##6.5 [進んだ話題]$\\color{blue}{独立性に関する注意}$"
      ]
    },
    {
      "cell_type": "markdown",
      "metadata": {
        "id": "ZhCExeB3mhH-"
      },
      "source": [
        "２つの事象$A,B$は、$\\color{red}{P(A\\cap{B})=P(A)P(B)}$が成り立つ時、独立である  \n",
        "  \n",
        "$\\color{blue}{２つの事象の発生には関係があっても、独立になる場合}$  \n",
        "１つのサイコロを投げる  \n",
        "$A$：偶数の目が出る事象  \n",
        "$B$：4以下の目が出る事象  \n",
        "$P(A)=3/6=1/2$  \n",
        "$P(B)=4/6=2/3$  \n",
        "$A\\cap{B}$：$A,B$が同時に起こる事象  \n",
        "$A\\cap{B}=\\{2,4\\}$  \n",
        "$P(A\\cap{B})=2/6=1/3$  \n",
        "$P(A)P(B)=P(A\\cap{B})$  \n",
        "なので、$A$と$B$は独立  \n",
        "  \n",
        "  $\\color{green}{P(A)}は、A$に含まれる根源事象の総数と全事象に含まれる根源事象の総数の比率$1/2$  \n",
        "  $\\color{green}{P(A\\mid{B})}は、A\\cap{B}$に含まれる根源事象の数と$B$に含まれる根源事象の総数の比率$1/2$  \n",
        "  したがって、$B$が起きたことを知っても、事象$A$が起きる確率は変わらず、$AとB$は独立である  \n",
        "\n",
        "  "
      ]
    },
    {
      "cell_type": "markdown",
      "source": [
        "事後確率 $P(A|B)=\\frac{P(A\\cap{B})}{P(B)}$　なので  \n",
        "$P(B)=\\frac{P(A\\cap{B})}{P(A|B)}$  \n",
        "$P(A)P(B)=\\color{green}{P(A)}\\frac{P(A\\cap{B})}{\\color{green}{P(A|B)}}=P(A\\cap{B})$  \n",
        "ただし、$P(A)=P(A|B)$　の場合"
      ],
      "metadata": {
        "id": "oHXQp8UBx0eY"
      }
    },
    {
      "cell_type": "markdown",
      "metadata": {
        "id": "SQmCEHpJzq4P"
      },
      "source": [
        "●２つの事象「$A,B$」が独立の定義  \n",
        "一般化すれば、**古典的確率**のもとでは  \n",
        "$A$に含まれる根源事象の総数と全事象に含まれる根元事象の総数の比率が、  \n",
        "$A\\cap{B}$に含まれる根元事象の総数と$B$に含まれる根元事象の総数の比率に  \n",
        "等しい場合、$AとB$は独立になる"
      ]
    },
    {
      "cell_type": "markdown",
      "metadata": {
        "id": "G3S_F3GH3tbI"
      },
      "source": [
        "●３つの事象「$A,B,C$」が独立の定義  \n",
        "$P(A\\cap{B})=P(A)P(B)$  \n",
        "$P(A\\cap{C})=P(A)P(C)$  \n",
        "$P(B\\cap{C})=P(B)P(C)$  \n",
        "$P(A\\cap{B}\\cap{C})=P(A)P(B)P(C)$  \n",
        "がすべて成り立つ  \n"
      ]
    },
    {
      "cell_type": "markdown",
      "metadata": {
        "id": "CgTePlF65KO5"
      },
      "source": [
        "$a,b,c$を並べた$3!(=6)$個の文字列と  \n",
        "$(a,a,a),(b,b,b),(c,c,c)$の合計９個の根元事象  \n",
        "これらの文字列から１つを選ぶ確率$1/9$  \n",
        "$A=\\{(a,x,y)\\mid{x,yははa,b,cいずれかの文字}\\}$  \n",
        "$B=\\{(x,a,y)\\mid{x,yははa,b,cいずれかの文字}\\}$  \n",
        "$C=\\{(x,y,a)\\mid{x,yははa,b,cいずれかの文字}\\}$  \n",
        "あきらかに、  \n",
        "$P(A)=P(B)=P(C)=1/3$  \n",
        "$P(A\\cap{B})=P(A\\cap{C})=P(B\\cap{C})=1/9$  \n",
        "なので、２つの事象の３個の対はすべて独立  \n",
        "しかし、  \n",
        "$P(A\\cap{B}\\cap{C})=1/9$  \n",
        "$P(A)P(B)P(C)=1/3\\times{1/3}\\times{1/3}=1/27$  \n",
        "なので、  \n",
        "$P(A\\cap{B}\\cap{C})=P(A)P(B)P(C)$  \n",
        "が成り立たない  \n",
        "●一般に積事象$A\\cap{B}$が起こることが、$C$が起こることに影響を与える場合には、  \n",
        "$A,B,C$は独立ではない"
      ]
    },
    {
      "cell_type": "markdown",
      "metadata": {
        "id": "mMoQxUo2BVya"
      },
      "source": [
        "●３つの事象$A,B,C$が独立と考えてよければ、  \n",
        "それらを任意に組み合わせた事象の確率は、  \n",
        "個々の事象の確率を用いて評価できる  \n",
        "$P(A\\cap{B}\\cap{\\overline{C}})=P(A\\cap{B})-P(A\\cap{B}\\cap{C})$  \n",
        "　　　　　　　　$=P(A)P(B)(1-P(C))$  \n",
        "　　　　　　　　$=P(A)P(B)P(\\overline{C})$"
      ]
    },
    {
      "cell_type": "markdown",
      "metadata": {
        "id": "xze25JElvH71"
      },
      "source": [
        "#第７章 確率変数と確率分布"
      ]
    },
    {
      "cell_type": "markdown",
      "metadata": {
        "id": "k1FvHaYevSj0"
      },
      "source": [
        "##7.1 確率変数と確率分布の考え方"
      ]
    },
    {
      "cell_type": "markdown",
      "metadata": {
        "id": "v-zz98CSwPTp"
      },
      "source": [
        "確率変数$X$  \n",
        "起こりうる事象に対して値$x$を割り当て、  \n",
        "値$x$が生じる確率を  \n",
        "$\\color{red}{P(X=x), p(x)}$  \n",
        "  \n",
        "  確率分布  \n",
        "歪みのないサイコロ  \n",
        "\n",
        "|$x$|$1$|$2$|$3$|$4$|$5$|$6$|合計|\n",
        "|--|--|--|--|--|--|--|--|\n",
        "|$p(x)$|$\\frac{1}{6}$|$\\frac{1}{6}$|$\\frac{1}{6}$|$\\frac{1}{6}$|$\\frac{1}{6}$|$\\frac{1}{6}$|$1$|\n",
        "  \n",
        "コイン  \n",
        "\n",
        "|$x$|$0$|$1$|合計|\n",
        "|--|--|--|--|\n",
        "|$p(x)$|$\\frac{1}{2}$|$\\frac{1}{2}$|$1$|\n"
      ]
    },
    {
      "cell_type": "markdown",
      "metadata": {
        "id": "lXt1jMPcED8z"
      },
      "source": [
        "###離散型確率変数と連続型確率変数"
      ]
    },
    {
      "cell_type": "markdown",
      "metadata": {
        "id": "ztWm32SgEfCZ"
      },
      "source": [
        "●離散型確率変数  \n",
        "確率変数$X$のとりうる値が$k$種類  \n",
        "$x_1,x_2,\\cdots,x_k$とするとき  \n",
        "$\\color{red}{P(X=x_i)=p(x_i)=p_i　(i=1,2,\\cdots,k)}$  \n",
        "次のことが成り立つ  \n",
        "$\\color{red}{p_1+p_2+\\cdots+p_k=\\sum_{i=1}^{k}p_i=1}$  \n",
        "  \n",
        "歪みのないサイコロの確率変数  \n",
        "$P(X=1)=\\frac{1}{6},P(X=2)=\\frac{1}{6},P(X=3)=\\frac{1}{6},$  \n",
        "$P(X=4)=\\frac{1}{6},P(X=5)=\\frac{1}{6},P(X=6)=\\frac{1}{6}$  \n",
        "または、  \n",
        "$P(X=x)=\\frac{1}{6}$　$(x=1,2,3,4,5,6)$  \n"
      ]
    },
    {
      "cell_type": "markdown",
      "metadata": {
        "id": "kRzmVZi8IgNW"
      },
      "source": [
        "歪みのないコインの確率変数  \n",
        "$P(X=0)=\\frac{1}{2}, P(X=1)=\\frac{1}{2}$  \n",
        "または、  \n",
        "$P(X=x)=\\frac{1}{2}$　$(x=0,1)$  \n"
      ]
    },
    {
      "cell_type": "markdown",
      "metadata": {
        "id": "t12Pgpb1Jdre"
      },
      "source": [
        "●連続型確率変数  \n",
        "確率変数$X$に対して、区間$\\color{red}{[a,b]}$内の値を取る確率を  \n",
        "$\\color{red}{P(a\\leqq{X}\\leqq{b})}$  \n",
        "例えば、  \n",
        "$\\color{red}{P(60\\leqq{X}\\leqq{80})=0.6}$  \n",
        "  \n",
        "$\\color{blue}{「確率変数}\\color{red}{X}\\color{blue}{は確率分布}\\color{red}{D}\\color{blue}{に従う」}$  \n",
        "  と言う。  \n",
        "  $\\color{blue}{歪みのないサイコロ投げ}の場合$  \n",
        "  $\\color{blue}{「確率変数}\\color{red}{X}\\color{blue}{は離散型一様分布に従う」}と言う。$"
      ]
    },
    {
      "cell_type": "markdown",
      "metadata": {
        "id": "7X2PnLA-vcZO"
      },
      "source": [
        "##7.2 平均、分散、標準偏差"
      ]
    },
    {
      "cell_type": "markdown",
      "metadata": {
        "id": "f90aVMRUbghP"
      },
      "source": [
        "10本のくじ  \n",
        "600円１本、200円３本、100円６本  \n",
        "平均：賞金総額を総本数で割る  \n",
        "$\\color{blue}{賞金総額の平均}\\color{red}{=\\frac{600\\times{1}+200\\times{3}+100\\times{6}}{10}=180(円)}$  \n",
        "$\\color{red}{600\\times{\\frac{1}{10}}+200\\times{\\frac{3}{10}}+100\\times{\\frac{6}{10}}=180(円)}$  \n",
        "  \n",
        "確率、(確率変数$X$と確率分布)  \n",
        "$\\color{red}{P(X=600)=\\frac{1}{10},P(X=200)=\\frac{3}{10},P(X=100)=\\frac{6}{10}}$  \n",
        "  \n",
        "$\\color{red}{P(X=x_i)=p_i (i=1,2,\\cdots,k)}$  \n",
        "  \n"
      ]
    },
    {
      "cell_type": "markdown",
      "metadata": {
        "id": "8AfvZzKgrZQx"
      },
      "source": [
        "###$\\color{blue}{確率変数の平均（期待値）}$"
      ]
    },
    {
      "cell_type": "markdown",
      "metadata": {
        "id": "K29oihExrgld"
      },
      "source": [
        "確率変数$X$の平均$E(X)$  \n",
        "$\\color{red}{E(X)=x_1p_1+x_2p_2+\\cdots+x_kp_k=\\sum_{i=1}^{k}x_ip_i}$  \n",
        "歪みのないサイコロ  \n",
        "$E(X)=1\\times{\\frac{1}{6}}+2\\times{\\frac{1}{6}}+\\cdots+6\\times{\\frac{1}{6}}=\\frac{21}{6}=\\frac{7}{2}$  \n",
        "\n",
        "|$x$|$1$|$2$|$3$|$4$|$5$|$6$|合計|\n",
        "|--|--|--|--|--|--|--|--|\n",
        "|$p(x)$|$\\frac{1}{6}$|$\\frac{1}{6}$|$\\frac{1}{6}$|$\\frac{1}{6}$|$\\frac{1}{6}$|$\\frac{1}{6}$|$1$|\n",
        "|$xp(x)$|$\\frac{1}{6}$|$\\frac{2}{6}$|$\\frac{3}{6}$|$\\frac{4}{6}$|$\\frac{5}{6}$|$\\frac{6}{6}$|$\\frac{21}{6}$|"
      ]
    },
    {
      "cell_type": "markdown",
      "metadata": {
        "id": "tvzN285Yq7gq"
      },
      "source": [
        "###$\\color{blue}{確率変数}\\color{red}{aX+b}と\\color{red}{X^2}\\color{blue}{の平均}$  "
      ]
    },
    {
      "cell_type": "markdown",
      "metadata": {
        "id": "ML5CM-7krPfo"
      },
      "source": [
        "確率変数$\\color{red}{X}$ 　$\\color{red}{x_i(i=1,2,\\cdots,k)}$  \n",
        "のとき  \n",
        "$\\color{red}{aX+b}$は、値$\\color{red}{ax_i+b}$をとる$\\color{blue}{確率変数}$  \n",
        "  \n",
        "$\\color{red}{P(X=x_i)=p_i}$  \n",
        "なので、  \n",
        "$\\color{red}{P(X=ax_i+b)=p_i}$  \n",
        "となる  \n",
        "$\\color{blue}{確率変数}\\color{red}{aX+b}\\color{blue}{の平均は}$  \n",
        "$E(aX+b)=(ax_1+b)p_1+(ax_2+b)P_2+\\cdots+(ax_k+b)p_k$  \n",
        "$=a(x_1p_1+x_2p_2+\\cdots+x_kp_k)+b(p_1+p_2+\\cdots+p_k)$  \n",
        "つまり  \n",
        "$\\color{red}{\\underline{E(aX+b)=aE(X)+b}}$"
      ]
    },
    {
      "cell_type": "markdown",
      "metadata": {
        "id": "LMDKvgBlwBa-"
      },
      "source": [
        "$\\color{red}{X^2}$は値$\\color{red}{x^2}$をを取る$\\color{blue}{確率変数}$  \n",
        "確率  \n",
        "$\\color{red}{P(X^2=x_i^2)=p_i}$  \n",
        "確率変数$X^2$の平均は  \n",
        "$\\underline{\\color{red}{E(X^2)}=x_1^2p_1+x_2^2p_2+\\cdots+x_k^2p_k\\color{red}{=\\sum_{i=1}^{k}x_i^2p_i}}$  \n",
        "歪みのないサイコロ  \n",
        "$E(X^2)=1^2\\times{\\frac{1}{6}}+2^2\\times{\\frac{1}{6}}+\\cdots+6^2\\times{\\frac{1}{6}}=\\frac{91}{6}$  \n",
        "このように  \n",
        "確率変数$\\color{red}{X}$の関数$\\color{red}{g(X)}$も$\\color{blue}{確率変数}$  \n",
        "$\\color{red}{g(X)}$の$\\color{blue}{平均(期待値)}$は  \n",
        "$\\color{red}{E(g(X))}=g(x_1)p_1+g(x_2)p_2+\\cdots+g(x_k)p_k=\\color{red}{\\sum_{i=1}^{k}g(x_i)p_i}$  \n",
        " 　"
      ]
    },
    {
      "cell_type": "markdown",
      "metadata": {
        "id": "8F-I_Wg31OZY"
      },
      "source": [
        "###$\\color{blue}{確率変数の分散}と標準偏差$"
      ]
    },
    {
      "cell_type": "markdown",
      "metadata": {
        "id": "KRLTE7ND1V3a"
      },
      "source": [
        "平均$\\color{red}{\\mu=E(X)}$とすると分散$V(X)$は  \n",
        "$\\color{blue}{分散}$  \n",
        "$$\\color{red}{\\underline{V(X)=E((X-\\mu)^2)}}$$  \n",
        "$\\color{blue}{標準偏差}$  \n",
        "$$\\color{red}{σ(X)=\\sqrt{V(X)}}$$  \n",
        "  \n",
        "  確率変数$X-\\mu$は、$X$の平均$\\mu$からの偏差  \n",
        "  $\\color{red}{(X-\\mu)^2}$も$\\color{blue}{確率変数}$、  \n",
        "  $\\underline{分散はその平均}$  \n",
        "  $\\underline{\\color{red}{V(X)}=(x_1-\\mu)^2p_1+(x_2-\\mu)^2p_2+\\cdots+(x_k-\\mu)^2p_k\\color{red}{=\\sum_{i=1}^{k}(x_i-\\mu)^2p_i}}$  \n",
        "  この式を変形  \n",
        "  $\\color{red}{V(X)}=\\sum_{i=1}^{k}(x_i-\\mu)^2p_i=\\sum_{i=1}^{k}(x_i^2-2\\mu{x_i}+\\mu^2)p_i$  \n",
        "  $=\\sum_{i=1}^{k}x_i^2p_i-2\\mu\\sum_{i=1}^{k}x_ip_i+\\mu^2\\sum_{i=1}^{k}p_i$  \n",
        "  $=\\sum_{i=1}^{k}x_i^2p_i-2\\mu\\times{\\mu}+\\mu^2\\times{1}\\color{red}{=\\sum_{i=1}^{k}x_i^2p_i-\\mu^2}$  \n",
        "  つまり  \n",
        "  ●$$\\color{red}{\\underline{V(X)=E(X^2)-\\{E(X)\\}^2}}$$  \n",
        "  歪みのないサイコロ  \n",
        "  $E(X)=7/2,E(X^2)=91/6$  \n",
        "  $V(X)=E(X^2)-\\{E(X)\\}^2=91/6-(7/2)^2=35/12$  \n",
        "  $σ(X)=\\sqrt{35/12}\\fallingdotseq1.71$  \n",
        "  表で求める  \n",
        "\n",
        "|$x$|$1$|$2$|$3$|$4$|$5$|$6$|合計|\n",
        "|--|--|--|--|--|--|--|--|\n",
        "|$(x-\\mu)^2$|$\\frac{25}{4}$|$\\frac{9}{4}$|$\\frac{1}{4}$|$\\frac{1}{4}$|$\\frac{9}{4}$|$\\frac{25}{4}$||\n",
        "|$p(x)$|$\\frac{1}{6}$|$\\frac{1}{6}$|$\\frac{1}{6}$|$\\frac{1}{6}$|$\\frac{1}{6}$|$\\frac{1}{6}$|$1$|\n",
        "|$(x-\\mu)^2p(x)$|$\\frac{25}{24}$|$\\frac{9}{24}$|$\\frac{1}{24}$|$\\frac{1}{24}$|$\\frac{9}{24}$|$\\frac{25}{24}$|$\\frac{70}{24}$|\n",
        "\n",
        "$V(X)=70/24=35/12$\n"
      ]
    },
    {
      "cell_type": "markdown",
      "metadata": {
        "id": "9h6_8-C0B_mO"
      },
      "source": [
        "###$\\color{blue}{確率変数}\\color{red}{aX+b}\\color{blue}{の分散}と標準偏差$"
      ]
    },
    {
      "cell_type": "markdown",
      "metadata": {
        "id": "TQWFMEzdCM3y"
      },
      "source": [
        "確率変数 $\\color{red}{aX+b}$ の  \n",
        "$\\color{blue}{平均}$は、  \n",
        " $$\\color{red}{\\underline{a\\mu+b}}$$  \n",
        "$\\color{blue}{分散}$  \n",
        "$\\color{red}{V(aX+b)}=E((aX+b-(a\\mu+b))^2)$  \n",
        "$=E((aX-a\\mu)^2)=E(a^2(X-\\mu)^2)$  \n",
        "$=a^2E((X-\\mu)^2)=\\color{red}{\\underline{a^2V(X)}}$  \n",
        "  \n",
        "●$$\\color{red}{\\underline{V(aX+b)=a^2V(X)}}$$  \n",
        "●$$\\color{red}{\\underline{σ(aX+b)=|a|σ(X)}}$$  \n",
        "  \n",
        "本書では。  \n",
        "$\\color{blue}{平均}：\\color{red}{E(X),\\mu}$  \n",
        "$\\color{blue}{分散}：\\color{red}{V(X),σ^2}$  \n",
        "$\\color{blue}{標準偏差}：\\color{red}{σ(X),σ}$  \n"
      ]
    },
    {
      "cell_type": "markdown",
      "metadata": {
        "id": "qQyqfK-Nvkxt"
      },
      "source": [
        "##7.3 二項分布と正規分布"
      ]
    },
    {
      "cell_type": "markdown",
      "metadata": {
        "id": "jUSGn31uf1XO"
      },
      "source": [
        "###$\\color{blue}{二項分布}$"
      ]
    },
    {
      "cell_type": "markdown",
      "metadata": {
        "id": "rs9VCZe0fJYo"
      },
      "source": [
        "$\\color{blue}{試行結果が２種類}$  \n",
        "成功：１　$(X=1)$の確率　$\\color{red}{p(0\\leqq{p}\\leqq{1})}$  \n",
        "失敗：０　$(X=0)$の確率　$\\color{red}{1-p}$  \n",
        "成功確率$\\color{red}{p}$が一定の  \n",
        "反復試行を$\\color{red}{n}$回行う  \n",
        "成功回数$\\color{red}{X}$を確率変数とする  \n",
        "離散型確率分布を  \n",
        "$\\color{blue}{二項分布(Binomial Distribution)}$という  \n",
        "  \n",
        "成功確率$\\color{red}{p}$が一定の場合  \n",
        "$\\color{red}{n}$回の反復試行中  \n",
        "成功が$\\color{red}{x}$回  \n",
        "失敗が$\\color{red}{(n-x)}$回  \n",
        "$\\color{red}{P(X=x)={}_nC_xp^x(1-p)^{n-x}}$  \n",
        "　$(x=1,2,\\cdots,n)$  \n",
        "↑$\\color{blue}{二項分布の確率関数}$↑  \n",
        "$\\color{red}{P(X=x)=p(x)}$  \n",
        "↑$このとき\\color{red}{p(x)}は\\color{blue}{確率変数}\\color{red}{X}の\\color{blue}{確率関数}$"
      ]
    },
    {
      "cell_type": "markdown",
      "metadata": {
        "id": "HjYEIg4_lX7W"
      },
      "source": [
        "###$\\color{blue}{二項分布の性質}$"
      ]
    },
    {
      "cell_type": "markdown",
      "metadata": {
        "id": "byLXk1gplcf1"
      },
      "source": [
        "成功確率$\\color{red}{p}$　反復試行回数$\\color{red}{n}$  \n",
        "で決まるので  \n",
        "●$\\color{red}{B(n.p)}$  \n",
        "確率変数$X$は、二項分布$B(n,p)$に従うという  \n",
        "$B(n,p)$に従う確率変数$X$の  \n",
        "$\\color{blue}{平均}：\\color{red}{\\mu=np}$  \n",
        "$\\color{blue}{分散}：\\color{red}{σ^2=np(1-p)}$  \n",
        "$\\color{blue}{標準偏差}：\\color{red}{σ=\\sqrt{np(1-p)}}$  \n"
      ]
    },
    {
      "cell_type": "markdown",
      "metadata": {
        "id": "MGytusB0n4Mz"
      },
      "source": [
        "###$\\color{blue}{正規分布}$"
      ]
    },
    {
      "cell_type": "markdown",
      "metadata": {
        "id": "9AqtpNEen7S_"
      },
      "source": [
        "$\\color{blue}{確率密度関数}$  \n",
        "$\\color{red}{f(x)\\geqq0}$  \n",
        "$\\color{blue}{連続型確率変数}\\color{red}{X}$が  \n",
        "区間$\\color{red}{[a,b]}$内の値  \n",
        "をとる確率$\\color{red}{P(a\\leqq{X}\\leqq{b})}$  \n",
        "$\\color{red}{P(a\\leqq{X}\\leqq{b})=\\int_{a}^{b}f(x)\\:dx}$  \n",
        "また、$\\color{green}{\\int_{-\\infty}^{\\infty}f(x)\\:dx=1}$  \n",
        "  \n",
        "●$\\color{blue}{正規分布(ガウス分布；；Normal分布)}$  \n",
        "$\\color{red}{N(\\mu, σ^2)}$  \n",
        "の確率密度関数  \n",
        "$\\color{red}{f(x)=\\frac{1}{\\sqrt{2πσ^2}}e^{\\frac{-(x-\\mu)^2}{2σ^2}}　(-\\infty \\leqq x \\leqq \\infty)}$  \n",
        "正規分布の特徴  \n",
        "・平均：$\\color{red}{\\mu}$ 分散：$\\color{red}{σ^2}$  \n",
        "・単峰、  \n",
        "　平均$μに関して\\color{blue}{左右対称}$、  \n",
        "　$x=μで\\color{blue}{最大値}$、  \n",
        "　$x=\\pm{σ}が\\color{blue}{変曲点}$  \n",
        "・ベルカーブ  \n",
        "・$\\color{blue}{面積}は\\color{red}{１}$  \n",
        "・$X$が$\\underline{(\\mu-σ, \\mu+σ)}$　$\\color{red}{\\underline{68\\%}　約2/3}$  \n",
        "　$X$が$\\underline{(\\mu-2σ, \\mu+2σ)}$　$\\color{red}{\\underline{95\\%}}$  \n",
        "　$X$が$\\underline{(\\mu-3σ, \\mu+3σ)}$　$\\color{red}{\\underline{99.7\\%}}$  \n",
        "　"
      ]
    },
    {
      "cell_type": "markdown",
      "metadata": {
        "id": "aAj42Dqwe1Wy"
      },
      "source": [
        "###$\\color{blue}{正規分布の性質}$"
      ]
    },
    {
      "cell_type": "markdown",
      "metadata": {
        "id": "NaawPbuFe7_Q"
      },
      "source": [
        "１）確率変数$\\color{red}{X}$が、正規分布$\\color{red}{N(\\mu,σ^2)}$に従うとき、  \n",
        "　　一次関数$\\color{red}{Y=aX+b}$は、正規分布$\\color{red}{N(a\\mu+b,a^2σ^2)}$に従う  \n",
        "  \n",
        "２）$\\color{blue}{標準化}$１）で$\\color{red}{a=1/σ,b=-\\mu/σ}$のとき、つまり  \n",
        "　　$\\color{red}{Z=\\frac{(X-\\mu)}{σ}}$　のとき、$\\color{red}{Z}$は  \n",
        "　　$\\color{red}{N(0,1)}$　に従う$\\color{blue}{（平均0、分散1）標準正規分布}$  \n",
        "  \n",
        "３）確率変数$\\color{red}{X}$が二項分布$\\color{red}{B(n,p)}$で、$\\color{red}{n}\\color{blue}{が大きい時}$  \n",
        "　　正規分布$\\color{red}{N(np,np(1-p))}\\color{blur}{で近似できる}$  \n",
        "  \n",
        "$\\color{blue}{正規分布の上側確率}$  \n",
        "$\\color{red}{Q(u)=P(Z\\geqq u)}$"
      ]
    },
    {
      "cell_type": "markdown",
      "metadata": {
        "id": "AVXyVMc7vtvS"
      },
      "source": [
        "##7.4 正規分布と確率の計算"
      ]
    },
    {
      "cell_type": "markdown",
      "metadata": {
        "id": "46fnTp-9oFOT"
      },
      "source": [
        "###$\\color{blue}{標準正規分布}\\color{red}{N(0,1)}\\color{blue}{の確率}$"
      ]
    },
    {
      "cell_type": "markdown",
      "metadata": {
        "id": "zQmLy_YnoVgN"
      },
      "source": [
        "標準正規分布の上側確率  \n",
        "●$\\color{red}{u=1.96}$　縦線$\\color{red}{z=1.96}$から$\\color{blue}{上側の面積}$を求める  \n",
        "$Q(1.96)=P(Z\\geqq 1.96)$  \n",
        "  \n",
        "・$\\color{red}{P(Z\\geqq 1.96)=0.0250}$  \n",
        "  \n",
        "・$\\color{red}{P(Z\\leqq 1.96)}$  \n",
        "　$=1-P(Z\\geqq 1.96)=1-0.0250=0.9750$  \n",
        "・$\\color{red}{P(Z\\leqq -1.96)}$  \n",
        "　$=P(Z\\geqq 1.96)=0.0250$  \n",
        "・$\\color{red}{P(|Z|\\leqq 1.96)}$  \n",
        "　$=1-2\\times{P(Z\\geqq{1.96})}=1-2\\times{0.0250}=0.950$"
      ]
    },
    {
      "cell_type": "markdown",
      "metadata": {
        "id": "e4FZ6QmjtFAU"
      },
      "source": [
        "●$\\color{blue}{数表}$から$\\color{red}{P(Z\\geqq z)=0.10}$となる $\\color{red}{z}$ を求める  \n",
        "$0.10\\fallingdotseq0.1003$  \n",
        "数表の左の$1.2$と上の$0.08$で、$1.28$  \n",
        "$P(Z\\geqq 1.28)\\fallingdotseq 0.10$  \n",
        "以下、頻出  \n",
        "$P(Z\\geqq \\color{red}{1.28})=\\color{blue}{0.10}$  \n",
        "$P(Z\\geqq \\color{red}{1.645})=\\color{blue}{0.05}$  \n",
        "$P(Z\\geqq \\color{red}{1.96})=\\color{blue}{0.025}$  \n",
        "$P(\\color{red}{-1.645}\\leqq Z\\leqq \\color{red}{1.645})=\\color{blue}{0.90}$  \n",
        "$P(\\color{red}{-1.96}\\leqq Z\\leqq \\color{red}{1.96})=\\color{blue}{0.95}$"
      ]
    },
    {
      "cell_type": "markdown",
      "metadata": {
        "id": "kv4kG5C-xaEJ"
      },
      "source": [
        "###$\\color{blue}{一般の正規分布}　\\color{red}{N(\\mu,σ^2)}\\color{blue}{の確率}$"
      ]
    },
    {
      "cell_type": "markdown",
      "metadata": {
        "id": "SZp8I0MHxsMU"
      },
      "source": [
        "確率変数$\\color{red}{X}$が、一般の正規分布$\\color{red}{N(\\mu,σ^2)}$に従うとき  \n",
        "標準化と標準正規分布$\\color{red}{N(0,1)}$を使って、$\\color{red}{X}\\color{blue}{がある区間に入る確率を求める}$  \n",
        "確率変数$X$が、正規分布$\\color{blue}{N(50,10^2)}$に従う場合  \n",
        "$\\color{red}{P(X\\geqq 65)}$  \n",
        "$\\color{red}{=P(\\frac{X-50}{10}\\geqq{\\frac{65-50}{10}})}$  \n",
        "$\\color{red}{=P(Z\\geqq{1.5})}$  \n",
        "$\\color{blue}{=0.0668}$  \n"
      ]
    },
    {
      "cell_type": "markdown",
      "metadata": {
        "id": "jcYH2iTv0PQA"
      },
      "source": [
        "###$\\color{blue}{二項分布の正規近似}$"
      ]
    },
    {
      "cell_type": "markdown",
      "metadata": {
        "id": "Hjx7bD7L0XfV"
      },
      "source": [
        "３）確率変数$X$が二項分布$\\color{red}{B(n,p)}$で、$\\color{red}{n}\\color{blue}{が大きい時}$  \n",
        "　　正規分布$\\color{red}{N(np,np(1-p))}$で近似できる  \n",
        "++++++++++  \n",
        "$\\color{red}{B(50,0.2)}$　$p=0.2,n=50$　の場合は  \n",
        "$\\color{red}{N(10,8)}$　$\\mu=10, σ^2=8$  \n",
        "　$\\mu=np=50\\times{0.2}=10,$  \n",
        "　$\\sigma^2 =np(1-p)=50\\times{0.2}\\times{(1-0.2)}=8$  \n",
        "++++++++++  \n",
        "$\\color{red}{B(700,0.4)}$の場合に　$\\color{red}{P(X\\geqq{300})}$を求める  \n",
        "$\\mu=700\\times{0.4}=280$  \n",
        "$σ^2=700\\times{0.4}\\times{(1-0.4)}=168$  \n",
        "$\\color{blue}{正規分布}\\color{red}{N(280,168)}$で近似  \n",
        "$\\color{blue}{式変形}$  \n",
        "$\\color{red}{P(X\\geqq{300})}$  \n",
        "$\\color{red}{\\fallingdotseq P(Z\\geqq \\frac{300-280}{\\sqrt{168}})}$  \n",
        "$\\color{red}{=P(Z\\geqq{1.54})}=0.0618$"
      ]
    },
    {
      "cell_type": "markdown",
      "metadata": {
        "id": "8DUIvNlTPgKV"
      },
      "source": [
        "例題7.7  \n",
        "確率変数$X$　  \n",
        "二項分布$B(100,0.2)$  \n",
        "正規分布近似で以下を求める  \n",
        "$\\mu=np=100\\times{0.2}=20$  \n",
        "$σ^2=np(1-p)=100\\times{0.2}\\times{(1-0.2)}=16=4^2$  \n",
        "  \n",
        "正規分布近似　$N(20,4^2)$  \n",
        "  \n",
        "・$P(X\\geqq 30)$  \n",
        "　$\\fallingdotseq P(\\frac{X-20}{4}\\geqq{\\frac{30-20}{4}})=P(Z\\geqq{2.5})=0.0062$  \n",
        "  \n",
        "・$P(X\\leqq 28)$  \n",
        "　$\\fallingdotseq P(\\frac{X-20}{4}\\leqq{\\frac{28-20}{4}})=P(Z\\leqq{2.0})=\\color{blue}{\\underline{1-0.0228}}=0.9772$  \n",
        "  \n",
        "・$P(16\\leqq X\\leqq 24)$  \n",
        "　$\\fallingdotseq P(\\frac{16-20}{4}\\leqq \\frac{X-20}{4}\\leqq{\\frac{24-20}{4}})=P(-1.0\\leqq Z\\leqq{1.0})=\\color{blue}{\\underline{1-2\\times{0.1587}}}=0.6826$  \n"
      ]
    },
    {
      "cell_type": "markdown",
      "metadata": {
        "id": "JOccpfuZv074"
      },
      "source": [
        "#第８章 データの収集：実験・観察・調査"
      ]
    },
    {
      "cell_type": "markdown",
      "metadata": {
        "id": "7aNG-mGvwEqY"
      },
      "source": [
        "##8.1 統計的問題解決におけるデータの収集"
      ]
    },
    {
      "cell_type": "markdown",
      "metadata": {
        "id": "uBaDn0RXhi0v"
      },
      "source": [
        "PPDACサイクル（巡回型プロセス）  \n",
        "１．Problem  \n",
        "　　問題の明確化  \n",
        "２．Plan  \n",
        "　　実験や調査の計画  \n",
        "３．Data  \n",
        "　　データの収集  \n",
        "　　　欠損値、回答の誤りなどへの対応  \n",
        "　　　測定値の取り扱い　測定値の有効桁数、測定時の誤りの修正  \n",
        "４．Analysis  \n",
        "　　データの分析  \n",
        "５．Conclusion  \n",
        "　　問題の解決  \n",
        "↓さらに次の問題  \n"
      ]
    },
    {
      "cell_type": "markdown",
      "metadata": {
        "id": "-mEYTxKBq5EU"
      },
      "source": [
        "###問題の明確化"
      ]
    },
    {
      "cell_type": "markdown",
      "metadata": {
        "id": "w35Yd3Uxq8gh"
      },
      "source": [
        "どの程度明確にすればいいのか？  \n",
        "→その問題に対して、得られたデータで結論が出せる、というレベルまで問題を具体化する  \n",
        "  \n",
        "・最初にイメージしていた問題をある程度限定したものに変えることが必要になるかもしれない  \n",
        "・抽象的な記述として書かれている最終ゴールが、実際にどのように測定されているのかをきっちりチェックしておくことが重要"
      ]
    },
    {
      "cell_type": "markdown",
      "metadata": {
        "id": "0RBwFzNTwT-R"
      },
      "source": [
        "##8.2 実験研究と観察研究"
      ]
    },
    {
      "cell_type": "markdown",
      "metadata": {
        "id": "B9CmLZiyyJNc"
      },
      "source": [
        "###実験研究"
      ]
    },
    {
      "cell_type": "markdown",
      "metadata": {
        "id": "I0ZZC-wUyZy4"
      },
      "source": [
        "$\\color{blue}{対象者にある種の介入を行う}$  \n",
        "２つのグループの間の差異をできるだけ小さくする必要がある  \n",
        "無作為割り付け  \n",
        "  \n",
        "新治療法の有効性や安全性を検証する場合  \n",
        "倫理面、費用面から、実験研究の実施が難しい場合もある"
      ]
    },
    {
      "cell_type": "markdown",
      "metadata": {
        "id": "--whd57QzoGt"
      },
      "source": [
        "###観察研究"
      ]
    },
    {
      "cell_type": "markdown",
      "metadata": {
        "id": "V6xiL_tAztBA"
      },
      "source": [
        "対象者に介入することなく、自然の状態を観察する研究  \n",
        "・日本の平均寿命  \n",
        "・アンケート  \n",
        "  \n",
        "現行の治療法やその予後を検証する場合  \n",
        "稀少疾患や発症期間の長い疾病の場合  \n",
        "  \n",
        "観察研究の場合は、２つの因子の因果関係を考えるときでも、原因の部分を対象者が自分で選択するため、なぜそのような選択をしたのか、と言う点が問題になる場合がある"
      ]
    },
    {
      "cell_type": "markdown",
      "metadata": {
        "id": "KNze_Hms2hFZ"
      },
      "source": [
        "###処理群と対照群"
      ]
    },
    {
      "cell_type": "markdown",
      "metadata": {
        "id": "DijrBHZB2oef"
      },
      "source": [
        "処理群：何らかの処理を加えられたグループ  \n",
        "対照群：それと比較されるもう一方のグループ  \n",
        "  \n",
        "プラセボ：偽薬"
      ]
    },
    {
      "cell_type": "markdown",
      "metadata": {
        "id": "7NRK-Zww3We_"
      },
      "source": [
        "###実験・調査の計画の立案"
      ]
    },
    {
      "cell_type": "markdown",
      "metadata": {
        "id": "A8Z1Dg6k3eIO"
      },
      "source": [
        "１）どのような研究方法をとるのか？  \n",
        "　　・実験的な研究  \n",
        "　　　どのような介入を行うのか？  \n",
        "　　　どのような条件をコントロールするのか？  \n",
        "　　・観察的な研究  \n",
        "　　　１時点での状況を把握するのか？  \n",
        "　　　追跡調査をするのか？　どのくらいの期間追跡調査をするのか？  \n",
        "\n",
        "２）対象者としてどのような人を選ぶのか？  \n",
        "　　　対象の限定、さらなる限定が必要になる場合も  \n",
        "　　　標本調査  \n",
        "  \n",
        "３）どのような測定を行うのか？  \n",
        "　　　問題の明確化の過程で測定可能なものに制限しているが、  \n",
        "　　　実際の測定方法を明確にする"
      ]
    },
    {
      "cell_type": "markdown",
      "metadata": {
        "id": "A6GUsJlo6JmL"
      },
      "source": [
        "▶︎フィッシャーの３原則  \n",
        "・局所管理：体重によってブロックに分ける  \n",
        "・無作為化：ブロック内で無作為割付  \n",
        "・繰り返し（反復）：偶然誤差の大きさの評価"
      ]
    },
    {
      "cell_type": "markdown",
      "metadata": {
        "id": "hclbYV_lwdCk"
      },
      "source": [
        "##8.3 全数調査と標本調査"
      ]
    },
    {
      "cell_type": "markdown",
      "metadata": {
        "id": "SnG6_VkS7NTy"
      },
      "source": [
        "・全数調査、悉皆調査（しっかい）  \n",
        "　　国勢調査  \n",
        "\n",
        "・標本調査  \n",
        "　　１）製品の寿命調査、破壊強度調査  \n",
        "　　　　その製品が使えなくなる調査  \n",
        "　　２）全数調査だと時間がかかりすぎ、調査結果の価値がなくなる  \n",
        "　　３）全数調査だと、手間や費用がかかりすぎる場合  \n"
      ]
    },
    {
      "cell_type": "markdown",
      "metadata": {
        "id": "3H_LzJr--b6N"
      },
      "source": [
        "例題８.１   \n",
        "国の調査  \n",
        "標本調査：  \n",
        "　・家計消費状況調査・社会生活基本調査  \n",
        "全数調査：  \n",
        "　・経済センサス・学校基本調査  \n"
      ]
    },
    {
      "cell_type": "markdown",
      "metadata": {
        "id": "2TUl5i-W_NgF"
      },
      "source": [
        "###母集団と標本"
      ]
    },
    {
      "cell_type": "markdown",
      "metadata": {
        "id": "_BCgpxDv_Sm_"
      },
      "source": [
        "母集団：特徴や傾向などを知りたい集団全体  \n",
        "標本：実際に調査をする母集団の一部  \n",
        "標本の大きさ：標本に含まれる人やものの個数"
      ]
    },
    {
      "cell_type": "markdown",
      "metadata": {
        "id": "e1YazJnUAR3M"
      },
      "source": [
        "###標本調査"
      ]
    },
    {
      "cell_type": "markdown",
      "metadata": {
        "id": "5kIHIS95AWat"
      },
      "source": [
        "統計的推測：標本調査では、$\\color{blue}{標本から得られる値}$に基づいて、$\\color{blue}{母集団の特性値}$について$\\color{blue}{統計的推測}$を行う  \n",
        "一般的にこれら２つの値は一致しない  \n",
        "・標本誤差  \n",
        "　理論的に計算・評価することができる  \n",
        "・非標本誤差  \n",
        "　非標本誤差を算出することは困難  \n",
        "　標本誤差と非標本誤差のどちらが大きいかという比較も難しい  \n",
        "　・調査の計画段階での誤差  \n",
        "　・調査単位観察の段階での誤差  \n",
        "　・結果の整理、解析、発表段階での誤差  \n",
        "  \n",
        "非標本誤差は全数調査の場合にも発生し、標本調査の場合の非標本誤差より管理が難しい場合が多い  \n",
        "したがって、全数調査と標本調査の精度はどちらが良いかは、一般にはわからない\n"
      ]
    },
    {
      "cell_type": "markdown",
      "metadata": {
        "id": "DtBgHdtAFYkB"
      },
      "source": [
        "・$\\color{blue}{偶然変動}$　による誤差  \n",
        "  　誤差の生じる方向が、真値に対して過大または過小に偏らせる$\\color{blue}{特定の要因が存在しない}$  \n",
        "　　偶然と考えられる  \n",
        "・$\\color{blue}{偏り}$　による誤差  \n",
        "　　誤差の生じる方向が、真値に対して$\\color{blue}{過大または過小の一方に偏らせる特定の要因が存在する}$  \n",
        "　　・年収調査　過小  \n",
        "　　・インターネット調査でコンピュータの利用割合利用割合　過大  \n",
        "\n",
        "▶︎自発的に回答する調査  \n",
        "　回答は必ずしも客全体の声を反映しているとは限らない"
      ]
    },
    {
      "cell_type": "markdown",
      "metadata": {
        "id": "pGPjAqYwwkyR"
      },
      "source": [
        "##8.4 無作為抽出法"
      ]
    },
    {
      "cell_type": "markdown",
      "metadata": {
        "id": "UbaKrITNHu-2"
      },
      "source": [
        "●$\\color{blue}{単純無作為抽出法}$  \n",
        "確率的な現象を用いて、母集団に含まれている個体が同じ確率で標本として選ばれるような抽出方法  \n",
        "母集団に含まれる個体にすべて異なる番号をつけて、その番号を等確率で抽出する  \n",
        "  \n",
        "１）くじやサイコロ  \n",
        "　　０から９９までの番号のついたくじ  \n",
        "　　正二十面体サイコロ  \n",
        "２）乱数表  \n",
        "　　乱数表から数字を１つ選ぶ、そこをスタートにして、ある方向に数字を順番に選んでいく  \n",
        "３）コンピュータで乱数を発生させる  \n",
        "　　擬似乱数　"
      ]
    },
    {
      "cell_type": "markdown",
      "metadata": {
        "id": "Ny2YZagDwqeo"
      },
      "source": [
        "#第９章 統計的な推測"
      ]
    },
    {
      "cell_type": "markdown",
      "metadata": {
        "id": "VrtA5RElw1Dj"
      },
      "source": [
        "##9.1 統計的な推測"
      ]
    },
    {
      "cell_type": "markdown",
      "metadata": {
        "id": "cwBYg4QySFCd"
      },
      "source": [
        "＜母集団＞　　→　　無作為抽出　　→　　＜標本＞  \n",
        "　　　　　　　　　　　　　　　　　　　　　↓   \n",
        "母平均・母比率　←　統計的な推測　←　標本平均・標本比率\n",
        "\n",
        "\n",
        "\n",
        "統計的推定→区間推定  \n",
        "統計的仮説検定→仮説検定  \n"
      ]
    },
    {
      "cell_type": "markdown",
      "metadata": {
        "id": "mwJCyi9RUT-w"
      },
      "source": [
        "### 母平均、母比率と標本平均、標本比率"
      ]
    },
    {
      "cell_type": "markdown",
      "metadata": {
        "id": "F9V0eyIvUi82"
      },
      "source": [
        "母平均、母比率と標本平均、標本比率  \n",
        "には**$\\color{blue}{誤差}$**がある  \n",
        "統計学によって知りたいことは、標本平均や標本比率の値の**$\\color{blue}{信頼性}$**  \n",
        "\n",
        "信頼性を測るには、$\\color{blue}{標本平均}$や$\\color{blue}{標本比率}$が$\\color{blue}{どのような分布に従うのか}$を知っておく必要がある。\n"
      ]
    },
    {
      "cell_type": "markdown",
      "metadata": {
        "id": "5wL_nxB_WQlM"
      },
      "source": [
        "###標本分布"
      ]
    },
    {
      "cell_type": "markdown",
      "metadata": {
        "id": "wfEGuB8iWWCg"
      },
      "source": [
        "$\\color{blue}{母集団}$から$\\underline{繰り返し}\\color{blue}{大きさ}\\color{red}{n}\\color{blue}{の標本}を\\underline{無作為抽出}し$、  \n",
        "$\\underline{その度に\\color{blue}{標本平均、標本比率}を計算すれば、}$\n",
        "$\\underline{\\color{blue}{母平均、母比率}のまわりに分布する。}$  \n",
        "標本平均や標本比率などの標本から推定された量にかんする分布を、  \n",
        "**$\\color{blue}{標本分布}$**という  \n",
        "  \n",
        "$\\underline{標本平均の計算}の\\color{blue}{繰り返しが\\underline{無限回可能}なら}$、そのときにできる分布が$\\color{blue}{標本平均の\\underline{標本分布}}$である"
      ]
    },
    {
      "cell_type": "markdown",
      "metadata": {
        "id": "YXfKmlqcb94Z"
      },
      "source": [
        "歪みのないサイコロを$\\color{red}{２回}$投げた場合の平均  \n",
        "$\\color{red}{\\overline{X}=\\frac{1}{2}(X_1+X_2)}$  \n",
        "$\\overline{X}$も確率変数  \n",
        "$\\overline{x}$は$\\overline{X}$のとりうる値  \n",
        "$\\color{red}{\\overline{x}}$が生じる確率を、$\\color{red}{P(\\overline{X}=\\overline{x})=p(\\overline{x})}$  \n",
        "\n",
        "|$\\overline{x}$|$1$|$1.5$|$2$|$2.5$|$3$|$3.5$|$4$|$4.5$|$5$|$5.5$|$6$|合計|\n",
        "|--|--|--|--|--|--|--|--|--|--|--|--|--|\n",
        "|$p(\\overline{x})$|$\\frac{1}{36}$|$\\frac{2}{36}$|$\\frac{3}{36}$|$\\frac{4}{36}$|$\\frac{5}{36}$|$\\frac{6}{36}$|$\\frac{5}{36}$|$\\frac{4}{36}$|$\\frac{3}{36}$|$\\frac{2}{36}$|$\\frac{1}{36}$|$1$|\n",
        "\n",
        "$\\color{red}{\\overline{X}}$の確立分布は$\\color{red}{3.5}$$\\color{blue}{を中心とした山形}$  \n",
        "\n",
        "$\\overline{X}=\\frac{1}{2}(X_1+X_2)$  \n",
        "は、母集団から$\\underline{大きさ２の標本}$として$X_1,X_2$を抽出した場合の標本平均  \n",
        "つまり、$\\color{blue}{上の表の確率分布は}\\underline{\\color{blue}{標本平均}\\color{red}{\\overline{X}}\\color{blue}{の標本分布}}$  \n",
        "  \n",
        "確率変数$X_1,X_2$は$\\underline{\\color{blue}{離散型一様分布}}$  \n",
        "しかし、  \n",
        "標本平均$\\overline{X}$は、$3.5$前後の値をとる確率が最大となる  \n",
        "$\\underline{投げる回数を多くして\\color{red}{\\overline{X}}を考えると、}$  \n",
        "その確率分布は、$\\underline{\\color{blue}{正規分布で近似}できる}$"
      ]
    },
    {
      "cell_type": "markdown",
      "metadata": {
        "id": "EmgWFbklhzT7"
      },
      "source": [
        "###$\\color{blue}{標本平均}$$\\color{red}{\\overline{X}}$$\\color{blue}{の標本分布}$"
      ]
    },
    {
      "cell_type": "markdown",
      "metadata": {
        "id": "_OsIgDiMiElK"
      },
      "source": [
        "母平均$\\color{red}{\\mu}$、母分散$\\color{red}{σ^2}$の母集団から  \n",
        "$\\underline{大きさ\\color{red}{n}の標本}$$X_1,X_2,\\cdots,X_n$を無作為抽出  \n",
        "これらは$\\underline{\\color{red}{n}個の確率変数}$  \n",
        "それらの$\\underline{標本平均\\color{red}{\\overline{X}}も確率変数}$  \n",
        "$\\color{red}{\\overline{X}=\\frac{1}{n}\\sum_{i=1}^{n}X_i}$  \n",
        "  \n",
        "一般に標本は１度しか抽出できないが、  \n",
        "$\\underline{もし標本を無限回繰り返し得ることができるなら}$  \n",
        "標本平均は何らかの分布に従う  \n",
        "→これが、$\\underline{\\color{blue}{標本平均}\\color{red}{\\overline{X}}の\\color{blue}{標本分布}}$  "
      ]
    },
    {
      "cell_type": "markdown",
      "metadata": {
        "id": "koUIIT8CeQu2"
      },
      "source": [
        "###$\\color{red}{【重要な性質１】}$"
      ]
    },
    {
      "cell_type": "markdown",
      "metadata": {
        "id": "VCFUXdJteb-i"
      },
      "source": [
        "$\\color{red}{n}$個の確率変数$\\color{red}{X_1,X_2,\\cdots,X_n}$が  \n",
        "互いに独立に$\\color{blue}{母平均}\\color{red}{\\mu}$、$\\color{blue}{母分散}\\color{red}{σ^2}$の分布にしたがい、  \n",
        "$\\color{red}{n}$が大きい時、  \n",
        "標本平均$\\color{red}{\\overline{X}}$は、$\\underline{正規分布\\color{red}{N(\\mu,\\frac{σ^2}{n})}}$に近似的に従う。  \n",
        "  \n",
        "$\\underline{\\color{red}{n}が大きくなるほど、}$  \n",
        "$\\underline{標準偏差が小さくなり分布の山が際立つ}$  \n",
        "  \n",
        "$\\overline{X}を\\color{blue}{標準化}した確率変数Z$  \n",
        "$\\underline{\\color{red}{Z=\\frac{\\overline{X}-\\mu}{σ/\\sqrt{n}}}}$　は$\\color{blue}{標準正規分布}\\color{red}{N(0,1)}$に従う　　\n"
      ]
    },
    {
      "cell_type": "markdown",
      "metadata": {
        "id": "cyvZgR0fkirx"
      },
      "source": [
        "###$\\color{blue}{標本比率}\\color{red}{\\hat{p}}\\color{blue}{の標本分布}$"
      ]
    },
    {
      "cell_type": "markdown",
      "metadata": {
        "id": "NkDNHfi4kz_m"
      },
      "source": [
        "$\\underline{\\color{blue}{母集団}}$における事象$\\color{red}{A}$の出現比率$\\color{red}{p}$  \n",
        "$\\color{red}{n}$回の反復試行で$\\color{red}{A}$が起こる回数$\\color{red}{X}$は$\\color{blue}{確率変数}$  \n",
        "$\\color{red}{X}$は二項分布$\\color{red}{B(n,p)}$に従う  \n",
        "$\\underline{母集団の大きさが大きい場合}$、$\\color{blue}{非復元抽出}$であっても、$\\underline{近似的に\\color{red}{B(n,p)}に従う}$  \n",
        "  \n",
        "$\\underline{\\color{blue}{母比率}\\color{red}{p}}$の推定に、$\\underline{\\color{blue}{標本比率}\\color{red}{\\hat{p}=X/n}}$を用いるとき、$\\underline{標本比率\\color{red}{\\hat{p}}も確率変数}$である  \n",
        "$\\underline{\\color{red}{\\hat{p}}が従う分布を、}$$\\underline{\\color{blue}{標本比率}\\color{red}{\\hat{p}}の\\color{blue}{標本分布}という}$"
      ]
    },
    {
      "cell_type": "markdown",
      "metadata": {
        "id": "K_co3aYNsl7H"
      },
      "source": [
        "###$\\color{red}{【重要な性質２】}$"
      ]
    },
    {
      "cell_type": "markdown",
      "metadata": {
        "id": "qldk9pdAsulX"
      },
      "source": [
        "$\\color{blue}{二項分布}\\color{red}{B(n,p)}$に従う$\\color{blue}{確率変数}\\color{red}{X}$の平均と分散は、  \n",
        "$\\color{blue}{平均}：\\color{red}{np}$,  \n",
        "$\\color{blue}{分散}：\\color{red}{np(1-p)}$である  \n",
        "したがって、  \n",
        "$\\color{blue}{標本比率}\\color{red}{\\hat{p}=X/n}の平均と分散は$  \n",
        "$\\color{blue}{平均}：\\color{red}{p}$  \n",
        "$\\color{blue}{分散}：\\color{red}{p(1-p)/n}$  \n",
        "　$(E(\\hat{p})=E(\\frac{x}{n})=\\frac{1}{n}E(x)=\\frac{1}{n}np=p)$  \n",
        "　$(V(\\hat{p})=V(\\frac{x}{n})=\\frac{1}{n^2}V(x)=\\frac{1}{n^2}np(1-p)=\\frac{p(1-p)}{n})$  \n",
        "　    \n",
        "$\\underline{試行回数\\color{red}{n}が大きい時、}$$\\underline{二項分布は正規分布で近似できるので、}$  \n",
        "  \n",
        "$\\color{blue}{標本比率}\\color{red}{\\hat{p}}$は、$\\underline{\\color{blue}{正規分布}\\color{red}{N(p,\\frac{p(1-p)}{n})}}$に近似的に従う  \n",
        "  \n",
        "$\\underline{\\color{red}{n}が大きい時}$  \n",
        "$\\underline{\\color{red}{Z=\\frac{\\hat{p}-p}{\\sqrt{p(1-p)/n}}}}$は、$\\color{blue}{標準正規分布}\\color{red}{N(0,1)}$に近似的に従う"
      ]
    },
    {
      "cell_type": "markdown",
      "metadata": {
        "id": "RYQNNg88w6I_"
      },
      "source": [
        "##9.2 区間推定"
      ]
    },
    {
      "cell_type": "markdown",
      "metadata": {
        "id": "-7bTlJxDwTJM"
      },
      "source": [
        "$\\color{red}{n}$世帯の中で  \n",
        "$\\color{red}{X}$世帯があるドラマ見ていた  \n",
        "視聴率(母比率)$\\color{red}{p}$を推定  \n",
        "視聴世帯数$\\color{red}{X}$は確率変数で  \n",
        "二項分布$\\color{red}{B(n,p)}$に従う  \n",
        "９００世帯中１８０世帯が視聴の場合  \n",
        "標本比率$\\color{red}{\\hat{p}=X/n}=180/900=0.2$  \n",
        "↑**$\\color{blue}{点推定}$**  \n",
        "\n",
        "**$\\color{blue}{区間推定}$**　is like $\\color{red}{0.17\\leqq p \\leqq{0.23}}$  \n",
        "  \n",
        "\n",
        "母集団$1800$万世帯から、$900$世帯を標本抽出（$\\color{red}{0.005\\%}$）  \n",
        "$\\underline{そんな小さな割合でいいのか？}$  \n"
      ]
    },
    {
      "cell_type": "markdown",
      "metadata": {
        "id": "ewI5TSR90rWz"
      },
      "source": [
        "###$\\color{blue}{母平均}\\color{red}{\\mu}\\color{blue}{の信頼区間}$"
      ]
    },
    {
      "cell_type": "markdown",
      "metadata": {
        "id": "s3j0Wu-B0-2B"
      },
      "source": [
        "母平均$\\color{red}{\\mu}$の区間推定  \n",
        "【需要な性質１】より、  \n",
        "$\\color{red}{n}個の確率変数\\color{red}{X_1,X_2,\\cdots,X_n}が互いに独立に$  \n",
        "$母平均\\color{red}{\\mu}、母分散\\color{red}{σ^2}に従い$  \n",
        "$\\color{red}{n}が大きい時$  \n",
        "標本平均$\\color{red}{\\overline{X}}$は、正規分布$\\color{red}{N(\\mu,\\frac{σ^2}{n})}$に従う  \n",
        "標準化した$\\underline{\\color{red}{Z=\\frac{\\overline{X}-\\mu}{σ/\\sqrt{n}}}}$は、正規分布$\\color{red}{N(0,1)}$に従う  \n",
        "  \n",
        "$\\color{blue}{標準正規分布表}$から  \n",
        "$\\color{red}{P(|Z|\\leqq{1.96})=0.95}$が成り立つ  \n",
        "$\\color{red}{P(|\\frac{\\overline{X}-\\mu}{σ/\\sqrt{n}}|\\leqq{1.96})=0.95}$  \n",
        "$\\color{red}{\\mu}$について解くと  \n",
        "$\\color{red}{\\overline{X}-1.96\\frac{σ}{\\sqrt{n}}\\leqq{\\mu}\\leqq \\overline{X}+1.96\\frac{σ}{\\sqrt{n}}}$  \n",
        "  \n",
        "この$0.95$または$95\\%$を$\\color{blue}{信頼度（信頼係数）}$  \n",
        "上記区間を  \n",
        "$\\underline{\\color{blue}{母平均}\\color{red}{\\mu}に対する\\color{blue}{信頼度９５％の信頼区間}という}$  \n",
        "  \n",
        "$\\underline{信頼区間は「母集団の大きさに関係なく\\color{blue}{標本の大きさで決まる}」}$  \n",
        "標本の大きさを$\\color{red}{k^2}$倍にすると、信頼区間の幅は$\\color{red}{\\frac{1}{k}}$になる  \n",
        "信頼区間の幅を$\\color{red}{\\frac{1}{k}}$にしたいなら、標本の大きさを$\\color{red}{k^2}$倍にする  \n",
        "\n"
      ]
    },
    {
      "cell_type": "markdown",
      "metadata": {
        "id": "bKvM0P2F_b8B"
      },
      "source": [
        "###$\\color{blue}{母比率}\\color{red}{p}\\color{blue}{の信頼区間}$"
      ]
    },
    {
      "cell_type": "markdown",
      "metadata": {
        "id": "TVYbsU7Cfb2y"
      },
      "source": [
        "母比率$\\color{red}{p}$の区間推定を考える  \n",
        "$\\color{red}{n}$が十分大きいことから  \n",
        "【重要な性質２】の$Z$の式の分母の$p$に$\\hat{p}$を代入して近似  \n",
        "$\\color{red}{P(|\\frac{(\\hat{p}-p)}{\\sqrt{(\\hat{p}(1-\\hat{p})/n)}}| \\leqq{1.96})=0.95}$  \n",
        "  \n",
        "$\\color{blue}{母比率}\\color{red}{p}に対する\\color{blue}{信頼度度95\\%の信頼期間}は$  \n",
        "$\\color{red}{\\hat{p}-1.96\\sqrt{\\frac{\\hat{p}(1-\\hat{p})}{n}} \\leqq p \\leqq \\hat{p}+1.96\\sqrt{\\frac{\\hat{p}(1-\\hat{p})}{n}}}$  \n"
      ]
    },
    {
      "cell_type": "markdown",
      "metadata": {
        "id": "sZxOCdxMmReD"
      },
      "source": [
        "###信頼区間の意味"
      ]
    },
    {
      "cell_type": "markdown",
      "metadata": {
        "id": "Hos-Bj9TmWrx"
      },
      "source": [
        "ある信頼度９５％の信頼区間が求められた場合  \n",
        "この意味は  \n",
        "母平均や母比率がこの区間に入る確率が確率が９５％と言うことではない  \n",
        "  \n",
        "$\\underline{このような方法によって信頼区間を複数求めた場合、}$  \n",
        "$\\underline{母平均や母比率がそれらの範囲に入っている割合が９５％ということ}$  \n",
        "  \n",
        "\n",
        "標本平均$\\overline{X}$や標本比率$\\hat{p}$から  \n",
        "信頼区間を、$\\color{red}{２０回}$算出した場合に、  \n",
        "$\\color{red}{１９回程度（９５％）}$は$\\underline{真値\\color{red}{\\mu}や\\color{red}{p}をその信頼区間に含んでいる}$  \n",
        "それが信頼９５％と言う意味"
      ]
    },
    {
      "cell_type": "markdown",
      "metadata": {
        "id": "vxuRCIFNw9yR"
      },
      "source": [
        "##9.3 仮説検定"
      ]
    },
    {
      "cell_type": "markdown",
      "metadata": {
        "id": "0NUsjikbsmYD"
      },
      "source": [
        "###仮説検定の考え方"
      ]
    },
    {
      "cell_type": "markdown",
      "metadata": {
        "id": "QSLqCUW4sslq"
      },
      "source": [
        "１０回のコイン投げ  \n",
        "表が出る回数　確率変数$\\color{red}{X}$  \n",
        "二項分布$\\color{red}{B(10,0.5)}$  \n",
        "$X=x$の確率は、$\\color{red}{_{10}C_x(1/2)^{x}(1/2)^{10-x}}$  \n",
        "確率分布↓  \n",
        "\n",
        "|$x$|$0$|$1$|$2$|$3$|$4$|$5$|$6$|$7$|$8$|$9$|$10$|合計|\n",
        "|--|--|--|--|--|--|--|--|--|--|--|--|--|\n",
        "|$p(x)$|$0.001$|$0.010$|$0.044$|$0.117$|$0.205$|$0.246$|$0.205$|$0.117$|$0.044$|$0.010$|$0.001$|$1.0000$|\n",
        "  \n",
        "10回表が出る確率　$0.1\\%$  \n",
        "9回以上表が出る確率　$1.1\\%$  \n",
        "8回以上表が出る確率　$5.5\\%$   \n",
        "\n",
        "\n"
      ]
    },
    {
      "cell_type": "markdown",
      "metadata": {
        "id": "BgwCXOalv7yc"
      },
      "source": [
        "###仮説検定の手順"
      ]
    },
    {
      "cell_type": "markdown",
      "metadata": {
        "id": "1dCSFnSlwQfx"
      },
      "source": [
        "####１）$\\color{blue}{帰無仮説}$、$\\color{blue}{対立仮説}$を立てる"
      ]
    },
    {
      "cell_type": "markdown",
      "metadata": {
        "id": "SAiB4W1uxZSX"
      },
      "source": [
        "本来コインの表の出る確率：0.5  \n",
        "$\\color{blue}{帰無仮説}\\color{red}{H_0}$：「本来コインの表の出る確率$p$は$0.5$である」  \n",
        "$\\color{blue}{対立仮説}\\color{red}{H_1}$：「このコインの表の出る確率$p$は$0.5$より大きいのではないか」  \n",
        "$\\color{red}{H_0: p=0.5}$ ,　$\\color{red}{H_1: p>0.5}$　$\\color{blue}{片側検定}$  \n",
        "\n",
        "$\\color{blue}{対立仮説}\\color{red}{H_1}$：「このコインは表または裏が出やすのではないか」    \n",
        "$\\color{red}{H_0: p=0.5}$ ,　$\\color{red}{H_1: p\\neq{0.5}}$　$\\color{blue}{両側検定}$  \n"
      ]
    },
    {
      "cell_type": "markdown",
      "metadata": {
        "id": "UWBC7LH5w5UC"
      },
      "source": [
        "####２）$\\color{blue}{有意水準}を決める$"
      ]
    },
    {
      "cell_type": "markdown",
      "metadata": {
        "id": "u4YEncs51Dh3"
      },
      "source": [
        "有意水準としては、$\\color{red}{0.1,0.05,0.01}$を用いることが多い  \n",
        "有意水準$α=0.05$を考える  \n",
        "  \n",
        "「帰無仮説が真であるという仮定の下で」＝「帰無仮説の下で」"
      ]
    },
    {
      "cell_type": "markdown",
      "metadata": {
        "id": "1cjFex1xxBE7"
      },
      "source": [
        "####３）$\\color{blue}{帰無仮説}$の下で$\\color{blue}{棄却域}$を決める"
      ]
    },
    {
      "cell_type": "markdown",
      "metadata": {
        "id": "qghyd3FK2RDR"
      },
      "source": [
        "帰無仮説のもとで「$\\color{blue}{滅多に起こらないこと}$」を定める限界値を計算する  \n",
        "上表から、  \n",
        "$\\color{red}{X\\geqq{8}}$の確率は$\\color{red}{0.055}$で、$\\color{blue}{有意水準0.05}$より大きい  \n",
        "$\\color{red}{X\\geqq{9}}$の確率は$\\color{red}{0.011}$で、$\\underline{\\color{blue}{有意水準0.05}より小さい}$  \n",
        "  \n",
        "$\\color{blue}{有意水準}\\color{red}{α=0.05}$のとき、$\\color{red}{X\\geqq{9}}$ならば「$\\underline{帰無仮説を棄却する}$」  \n",
        "「$\\underline{対立仮説が真}$、すなわちこのコインは表が出やすい」と判断  \n",
        "  \n",
        "$\\underline{このように帰無仮説を棄却する範囲（X\\geqq9）を、}$  \n",
        "$\\underline{\\color{blue}{棄却域}という}$"
      ]
    },
    {
      "cell_type": "markdown",
      "metadata": {
        "id": "42FL8MENxNhX"
      },
      "source": [
        "####４）$\\color{blue}{判断}$をする"
      ]
    },
    {
      "cell_type": "markdown",
      "source": [
        "実際に起こった結果$\\color{red}{X=9}$  \n",
        "$\\underline{棄却域に入っている}$  \n",
        "→有意水準$α=0.05$で、帰無仮説を棄却する  \n",
        "つまり  \n",
        "「帰無仮説のもとで滅多に起こらないことが起こった」とは判断せず  \n",
        "「$\\underline{このコインは表が出やすい}$」と判断する。  \n",
        "  \n",
        "もし$X=7$だったら、  \n",
        "「このコインは表が出やすいとは言えない」  \n"
      ],
      "metadata": {
        "id": "7fxA0u7bnIml"
      }
    },
    {
      "cell_type": "markdown",
      "source": [
        "●両側検定  \n",
        "$\\color{blue}{有意水準}\\color{red}{α=0.05}$  \n",
        "手順３）４）  \n",
        "$\\color{red}{P(X\\geqq9)=0.011}$  \n",
        "$\\color{red}{P(X\\leqq1)=0.011}$  \n",
        "$\\underline{合計しても0.022で0.05より小さい}$  \n",
        "両側検定の場合には、  \n",
        "$\\color{red}{X\\leqq1}$と$\\color{red}{X\\geqq9}$を$\\color{blue}{棄却域}$にする  \n",
        "$\\color{red}{X=9}$ならば、  \n",
        "棄却域に入っているので、  \n",
        "有意水準$α=0.05$で帰無仮説を棄却し  \n",
        "「$\\underline{このコインは表または裏が出やすい}$」と判断する"
      ],
      "metadata": {
        "id": "guqeaoyBqc6_"
      }
    },
    {
      "cell_type": "markdown",
      "metadata": {
        "id": "couSHRaXwA6W"
      },
      "source": [
        "###$\\color{blue}{有意水準の意味}$"
      ]
    },
    {
      "cell_type": "markdown",
      "source": [
        "有意水準とは、帰無仮説が真であるにもかかわらず、それを棄却してしまう確率の上限  \n",
        "「$\\underline{\\color{blue}{有意水準}\\color{red}{α=0.05}\\color{blue}{で帰無仮説を棄却する}}$」とは、  \n",
        "「$\\underline{帰無仮説が真の時に}$ $\\underline{\\color{blue}{判断を誤る確率}を\\color{red}{0.05}まで認め、}$ $\\underline{帰無仮説を棄却するか否かを決める}$」"
      ],
      "metadata": {
        "id": "beUA8I72yKjH"
      }
    },
    {
      "cell_type": "markdown",
      "source": [
        "仮説検定の手順  \n",
        "１）帰無仮説、対立仮説を設定する  \n",
        "２）有意水準を決める  \n",
        "３）帰無仮説の元で有意水準を満たすように、棄却域を適切に求める  \n",
        "４）実験等の結果より、次のように判断する  \n",
        "　　・棄却域に入れば、帰無仮説を棄却する  \n",
        "　　・棄却域に入らなければ、帰無仮説を棄却しない"
      ],
      "metadata": {
        "id": "bhYHhWOhjDLB"
      }
    },
    {
      "cell_type": "markdown",
      "source": [
        "$\\color{blue}{【例１片側検定】}$  \n",
        "コイン投げ実験  \n",
        "コインを$\\color{red}{100回}$投げた場合の片側検定  \n",
        "$\\color{red}{H_0:p=0.5}$  \n",
        "$\\color{red}{H_1:p>0.5}$  \n",
        "$\\color{red}{n=100,p=0.5}$  \n",
        "表出る回数$X$は二項分布に従う  \n",
        "$\\color{red}{B(n,p)=B(100,0.5)}$  \n",
        "$\\color{blue}{正規分布で近似}$  \n",
        "$\\color{red}{N(\\mu,σ^2)=N(np,np(1-p))=N(50,5^2)}$  \n",
        "$\\color{red}{X}\\color{blue}{を標準化}$  \n",
        "$\\color{red}{Z=\\frac{X-50}{5},N(0,1)}$に従う  \n",
        "$\\color{red}{α=0.05}$の$\\underline{片側検定}$の場合、  \n",
        "$\\color{red}{P(Z\\geqq{\\underline{1.645}})=0.05}$  \n",
        "  \n",
        "$\\color{red}{P(Z\\geqq{1.645})\\fallingdotseq P(\\frac{X-50}{5}\\geqq1.645)}$  \n",
        "$\\color{red}{=P(X\\geqq1.645\\times 5+50)}$  \n",
        "$\\color{red}{=P(X\\geqq 58.225)}$  \n",
        "より  \n",
        "$\\color{blue}{有意水準}\\color{red}{α=0.05}$の$\\color{blue}{棄却域}は\\color{red}{X\\geqq59}$とすれば良い  \n",
        "もし１００回中６０回表が出れば、$X=60$は棄却域に入るので、帰無仮説は棄却される。  \n",
        "「表が出やすいコイン」と判断される  \n"
      ],
      "metadata": {
        "id": "KVYbu3FfAdJ-"
      }
    },
    {
      "cell_type": "markdown",
      "source": [
        "$\\underline{逆に\\color{red}{６０回}\\color{blue}{表}が出る確率の求めかた}$  \n",
        "  \n",
        "$\\color{red}{P(X\\geqq 60)\\fallingdotseq P(Z\\geqq \\frac{60-50}{5})}$  \n",
        "$\\color{red}{=P(Z\\geqq 2.0)=0.0228}$  \n",
        "$\\underline{\\color{red}{0.0228}は\\color{red}{0.05}よりも小さいので、}$  \n",
        "$\\underline{帰無仮説は\\color{blue}{棄却}される}$  \n"
      ],
      "metadata": {
        "id": "3SJniZalrYhI"
      }
    },
    {
      "cell_type": "markdown",
      "source": [
        "$\\color{blue}{【例２両側検定】}$  \n",
        "$\\color{red}{H_0:p=0.5,}$  \n",
        "$\\color{red}{H_1:p\\neq 0.5}$  \n",
        "有意水準$\\color{red}{α=0.05}$の$\\underline{両側検定}$  \n",
        "$\\color{red}{P(|Z|\\geqq \\underline{1.96})=0.05}$  \n",
        "なので、  \n",
        "$\\color{red}{P(|Z|\\geqq 1.96)\\fallingdotseq P(|\\frac{X-50}{5}|\\geqq 1.96)}$  \n",
        "$\\color{red}{=P(|X-50|\\geqq 1.96\\times 5)}$  \n",
        "$\\color{red}{=P(X\\leqq 40.2またはX\\geqq 59.8)}$  \n",
        "より  \n",
        "$\\color{blue}{有意水準}\\color{red}{α=0.05}の\\color{blue}{棄却域}$を、  \n",
        "$\\color{red}{X\\leqq 40}と\\color{red}{X\\geqq 60}$にすればよい  \n",
        "もし１００回中４０回表が出たら、$X=40$は棄却域に入るので、有意水準$α=0.05$で帰無仮説は棄却される"
      ],
      "metadata": {
        "id": "EpQLd-bgkkoT"
      }
    },
    {
      "cell_type": "markdown",
      "metadata": {
        "id": "-vORNMtpwI2_"
      },
      "source": [
        "###仮説検定の注意点"
      ]
    },
    {
      "cell_type": "markdown",
      "source": [
        "「帰無仮説を棄却しない」ことが、  \n",
        "$\\color{blue}{「帰無仮説が真である」ことを意味しているわけではない}$  \n",
        "$\\underline{「帰無仮説を棄却するに足る根拠を示すことはできなかった」}$ということ  \n",
        "  \n",
        "\n",
        "逆に  \n",
        "帰無仮説を棄却できたなら、  \n",
        "$\\underline{有意水準でしめした「誤りの確率」内ではあるが}$、  \n",
        "$\\color{blue}{対立仮説を認めることになる}$  "
      ],
      "metadata": {
        "id": "CubWBQyH3kJN"
      }
    },
    {
      "cell_type": "markdown",
      "metadata": {
        "id": "UrfKHRiRxEEh"
      },
      "source": [
        "#A 数学の補足"
      ]
    },
    {
      "cell_type": "markdown",
      "metadata": {
        "id": "9LRf4olKxLHF"
      },
      "source": [
        "##A.1 総和記号Σ"
      ]
    },
    {
      "cell_type": "markdown",
      "metadata": {
        "id": "QHyeyNbhxVwE"
      },
      "source": [
        "##A.2 階乗、順列、組合せ"
      ]
    },
    {
      "cell_type": "markdown",
      "metadata": {
        "id": "4Zuy6C5gxgYR"
      },
      "source": [
        "##A.3 対数関数"
      ]
    },
    {
      "cell_type": "markdown",
      "metadata": {
        "id": "XY411lCcxkpx"
      },
      "source": [
        "##A.4 最小二乗法による１次式のあてはめ"
      ]
    }
  ]
}